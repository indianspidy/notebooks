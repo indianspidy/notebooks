{
 "cells": [
  {
   "cell_type": "markdown",
   "id": "b4e4d2a2",
   "metadata": {},
   "source": [
    "# Introduction\n",
    "\n",
    "\n",
    "<B><I>Goal: To classify whether the SMS is spam or ham</I></B>\n",
    "\n",
    "In statistics, the logistic model (or logit model) is a statistical model that models the probability of an event taking place by having the log-odds for the event be a linear combination of one or more independent variables. In regression analysis, logistic regression (or logit regression) is estimating the parameters of a logistic model (the coefficients in the linear combination). Formally, in binary logistic regression there is a single binary dependent variable, coded by an indicator variable, where the two values are labeled \"0\" and \"1\", while the independent variables can each be a binary variable (two classes, coded by an indicator variable) or a continuous variable (any real value). The corresponding probability of the value labeled \"1\" can vary between 0 (certainly the value \"0\") and 1 (certainly the value \"1\"), hence the labeling; the function that converts log-odds to probability is the logistic function, hence the name. - Wikipedia\n",
    "\n",
    "The classification in Logistic Regression is based on the relationship between the categorical dependent variable and one or more independent by estimating probabilities using a logistic function.\n",
    "\n",
    "In this notebook, we will follow below steps to come up with predictor function for spam or ham based on provided data set.\n",
    "\n",
    "Ideally text preprocessing should be done before applying the logistic regression. Please refer: https://github.com/indianspidy/notebooks/blob/main/TextPreProcessing.ipynb\n",
    "\n",
    "\n",
    "<I>References:\n",
    "- wikipedia (https://www.wikipedia.org/)\n",
    "- Analytics Vidhya (https://www.analyticsvidhya.com/)\n",
    "- Python Programming Language: https://pythonprogramminglanguage.com/\n",
    "</I>\n"
   ]
  },
  {
   "cell_type": "code",
   "execution_count": 66,
   "id": "d849ea98",
   "metadata": {},
   "outputs": [],
   "source": [
    "# Imporing required libraries\n",
    "\n",
    "import pandas as pd # for data frames\n",
    "import numpy as np\n",
    "from sklearn.feature_extraction.text import TfidfVectorizer # for term frequency-inverse document frequency\n",
    "from sklearn.linear_model import LogisticRegression # for model\n",
    "from sklearn.metrics import accuracy_score, precision_score, recall_score, f1_score # for the error metrics\n",
    "from sklearn.metrics import confusion_matrix # for creating confusion matrix\n",
    "from sklearn.model_selection import train_test_split # to do test & train data split"
   ]
  },
  {
   "cell_type": "code",
   "execution_count": 67,
   "id": "e299a4b9",
   "metadata": {},
   "outputs": [],
   "source": [
    "# Loading the dataset. Dataset is text file separated by tab, so we use seperator='\\t'\n",
    "# Also header is added with names. Class label is for ham or spam & message is the SMS message\n",
    "df = pd.read_csv('C:/Users/rm634391/Desktop/Kaggle/SpamClassification/SMSSpamCollection', sep='\\t', names=['label', 'message'])"
   ]
  },
  {
   "cell_type": "code",
   "execution_count": 68,
   "id": "f6e2c47e",
   "metadata": {},
   "outputs": [
    {
     "data": {
      "text/plain": [
       "(5572, 2)"
      ]
     },
     "execution_count": 68,
     "metadata": {},
     "output_type": "execute_result"
    }
   ],
   "source": [
    "# Printing the number of rows & number of columns in data frame\n",
    "df.shape"
   ]
  },
  {
   "cell_type": "code",
   "execution_count": 69,
   "id": "a86c5447",
   "metadata": {},
   "outputs": [
    {
     "data": {
      "text/plain": [
       "label      object\n",
       "message    object\n",
       "dtype: object"
      ]
     },
     "execution_count": 69,
     "metadata": {},
     "output_type": "execute_result"
    }
   ],
   "source": [
    "# printing data types of each column\n",
    "datatypes = df.dtypes\n",
    "datatypes"
   ]
  },
  {
   "cell_type": "code",
   "execution_count": 70,
   "id": "9780e1f7",
   "metadata": {},
   "outputs": [
    {
     "data": {
      "text/html": [
       "<div>\n",
       "<style scoped>\n",
       "    .dataframe tbody tr th:only-of-type {\n",
       "        vertical-align: middle;\n",
       "    }\n",
       "\n",
       "    .dataframe tbody tr th {\n",
       "        vertical-align: top;\n",
       "    }\n",
       "\n",
       "    .dataframe thead th {\n",
       "        text-align: right;\n",
       "    }\n",
       "</style>\n",
       "<table border=\"1\" class=\"dataframe\">\n",
       "  <thead>\n",
       "    <tr style=\"text-align: right;\">\n",
       "      <th></th>\n",
       "      <th>label</th>\n",
       "      <th>message</th>\n",
       "    </tr>\n",
       "  </thead>\n",
       "  <tbody>\n",
       "    <tr>\n",
       "      <th>0</th>\n",
       "      <td>ham</td>\n",
       "      <td>Go until jurong point, crazy.. Available only ...</td>\n",
       "    </tr>\n",
       "    <tr>\n",
       "      <th>1</th>\n",
       "      <td>ham</td>\n",
       "      <td>Ok lar... Joking wif u oni...</td>\n",
       "    </tr>\n",
       "    <tr>\n",
       "      <th>2</th>\n",
       "      <td>spam</td>\n",
       "      <td>Free entry in 2 a wkly comp to win FA Cup fina...</td>\n",
       "    </tr>\n",
       "    <tr>\n",
       "      <th>3</th>\n",
       "      <td>ham</td>\n",
       "      <td>U dun say so early hor... U c already then say...</td>\n",
       "    </tr>\n",
       "    <tr>\n",
       "      <th>4</th>\n",
       "      <td>ham</td>\n",
       "      <td>Nah I don't think he goes to usf, he lives aro...</td>\n",
       "    </tr>\n",
       "  </tbody>\n",
       "</table>\n",
       "</div>"
      ],
      "text/plain": [
       "  label                                            message\n",
       "0   ham  Go until jurong point, crazy.. Available only ...\n",
       "1   ham                      Ok lar... Joking wif u oni...\n",
       "2  spam  Free entry in 2 a wkly comp to win FA Cup fina...\n",
       "3   ham  U dun say so early hor... U c already then say...\n",
       "4   ham  Nah I don't think he goes to usf, he lives aro..."
      ]
     },
     "execution_count": 70,
     "metadata": {},
     "output_type": "execute_result"
    }
   ],
   "source": [
    "# printing the header\n",
    "df.head()"
   ]
  },
  {
   "cell_type": "markdown",
   "id": "80007470",
   "metadata": {},
   "source": [
    "#### The labels need to be converted into binary variables (for binary classification): 0 for ham; 1 for spam"
   ]
  },
  {
   "cell_type": "code",
   "execution_count": 71,
   "id": "e30e1ad7",
   "metadata": {},
   "outputs": [],
   "source": [
    "# ham is labelled with 0 & spam is with 1 \n",
    "#df['label'] = df.label.map({'ham':\"0\", 'spam':\"1\"})\n",
    "df['label'] = df['label'].map({'ham':'0', 'spam':'1'})"
   ]
  },
  {
   "cell_type": "code",
   "execution_count": 72,
   "id": "162e538c",
   "metadata": {},
   "outputs": [
    {
     "data": {
      "text/html": [
       "<div>\n",
       "<style scoped>\n",
       "    .dataframe tbody tr th:only-of-type {\n",
       "        vertical-align: middle;\n",
       "    }\n",
       "\n",
       "    .dataframe tbody tr th {\n",
       "        vertical-align: top;\n",
       "    }\n",
       "\n",
       "    .dataframe thead th {\n",
       "        text-align: right;\n",
       "    }\n",
       "</style>\n",
       "<table border=\"1\" class=\"dataframe\">\n",
       "  <thead>\n",
       "    <tr style=\"text-align: right;\">\n",
       "      <th></th>\n",
       "      <th>label</th>\n",
       "      <th>message</th>\n",
       "    </tr>\n",
       "  </thead>\n",
       "  <tbody>\n",
       "    <tr>\n",
       "      <th>0</th>\n",
       "      <td>0</td>\n",
       "      <td>Go until jurong point, crazy.. Available only ...</td>\n",
       "    </tr>\n",
       "    <tr>\n",
       "      <th>1</th>\n",
       "      <td>0</td>\n",
       "      <td>Ok lar... Joking wif u oni...</td>\n",
       "    </tr>\n",
       "    <tr>\n",
       "      <th>2</th>\n",
       "      <td>1</td>\n",
       "      <td>Free entry in 2 a wkly comp to win FA Cup fina...</td>\n",
       "    </tr>\n",
       "    <tr>\n",
       "      <th>3</th>\n",
       "      <td>0</td>\n",
       "      <td>U dun say so early hor... U c already then say...</td>\n",
       "    </tr>\n",
       "    <tr>\n",
       "      <th>4</th>\n",
       "      <td>0</td>\n",
       "      <td>Nah I don't think he goes to usf, he lives aro...</td>\n",
       "    </tr>\n",
       "  </tbody>\n",
       "</table>\n",
       "</div>"
      ],
      "text/plain": [
       "  label                                            message\n",
       "0     0  Go until jurong point, crazy.. Available only ...\n",
       "1     0                      Ok lar... Joking wif u oni...\n",
       "2     1  Free entry in 2 a wkly comp to win FA Cup fina...\n",
       "3     0  U dun say so early hor... U c already then say...\n",
       "4     0  Nah I don't think he goes to usf, he lives aro..."
      ]
     },
     "execution_count": 72,
     "metadata": {},
     "output_type": "execute_result"
    }
   ],
   "source": [
    "# printing the header again\n",
    "df.head()"
   ]
  },
  {
   "cell_type": "code",
   "execution_count": 73,
   "id": "2d2a0190",
   "metadata": {},
   "outputs": [],
   "source": [
    "# before splitting we will be building two arrays x & y\n",
    "\n",
    "x = df['message']\n",
    "y = df['label']"
   ]
  },
  {
   "cell_type": "code",
   "execution_count": 74,
   "id": "c6336bfc",
   "metadata": {},
   "outputs": [],
   "source": [
    "# Now let us split the datasets x & y into train & test respectively. \n",
    "# 0.2 represents 20% of data will be leveraged for training & 80% of data will be used for test\n",
    "\n",
    "x_train, x_test, y_train, y_test = train_test_split(x, y, test_size = 0.2)"
   ]
  },
  {
   "cell_type": "code",
   "execution_count": 75,
   "id": "3f390775",
   "metadata": {},
   "outputs": [
    {
     "data": {
      "text/plain": [
       "4457"
      ]
     },
     "execution_count": 75,
     "metadata": {},
     "output_type": "execute_result"
    }
   ],
   "source": [
    "# print the shape of training set\n",
    "\n",
    "x_train.shape[0]"
   ]
  },
  {
   "cell_type": "code",
   "execution_count": 76,
   "id": "05211f55",
   "metadata": {},
   "outputs": [
    {
     "data": {
      "text/plain": [
       "1115"
      ]
     },
     "execution_count": 76,
     "metadata": {},
     "output_type": "execute_result"
    }
   ],
   "source": [
    "# print the shape of test set\n",
    "\n",
    "x_test.shape[0]"
   ]
  },
  {
   "cell_type": "markdown",
   "id": "9dfa5283",
   "metadata": {},
   "source": [
    "### TF-IDF \n",
    "\n",
    "TF-IDF (term frequency-inverse document frequency) is an information retrieval technique that helps find the most relevant documents corresponding to a given query.\n",
    "\n",
    "TF is a measure of how often a phrase appears in a document, and IDF is about how important that phrase is. The multiplication of these two scores makes up a TF-IDF score.\n",
    "\n",
    "Please read: https://www.onely.com/blog/what-is-tf-idf/ to understand more about TF-IDF"
   ]
  },
  {
   "cell_type": "code",
   "execution_count": 77,
   "id": "d751a56d",
   "metadata": {},
   "outputs": [],
   "source": [
    "# creating a new TF-IDF vectorizer\n",
    "vectorizer = TfidfVectorizer()"
   ]
  },
  {
   "cell_type": "markdown",
   "id": "2f50feaf",
   "metadata": {},
   "source": [
    "### fit_transform\n",
    "fit() method calculates the parameters mean and standard deviation and saves them as internal objects.\n",
    "transform() method uses the initial calculated values and return modified training data as output.\n",
    "fit_transform() combines both the above (primarily to scale the training data)"
   ]
  },
  {
   "cell_type": "code",
   "execution_count": 78,
   "id": "d3a942c3",
   "metadata": {},
   "outputs": [],
   "source": [
    "# fit & transform\n",
    "x_transform_train = vectorizer.fit_transform(x_train)\n",
    "x_transform_test = vectorizer.transform(x_test)\n",
    "y_transform_test = vectorizer.transform(y_test)"
   ]
  },
  {
   "cell_type": "code",
   "execution_count": 79,
   "id": "94fd0445",
   "metadata": {},
   "outputs": [],
   "source": [
    "# create a new classifier\n",
    "classifier = LogisticRegression()"
   ]
  },
  {
   "cell_type": "code",
   "execution_count": 80,
   "id": "02165736",
   "metadata": {},
   "outputs": [],
   "source": [
    "# fit the model\n",
    "response = classifier.fit(x_transform_train, y_train)"
   ]
  },
  {
   "cell_type": "code",
   "execution_count": 81,
   "id": "385a001a",
   "metadata": {},
   "outputs": [],
   "source": [
    "# Applying the classifier on test data\n",
    "classified_text = response.predict(x_transform_test)"
   ]
  },
  {
   "cell_type": "markdown",
   "id": "559a98d8",
   "metadata": {},
   "source": [
    "## Confusion Matrix\n",
    "\n",
    "Confusion Matrix (also known as error matrix) helps to calculate the performance of fitted model.\n",
    "To learn more, please read https://en.wikipedia.org/wiki/Confusion_matrix\n"
   ]
  },
  {
   "cell_type": "code",
   "execution_count": 82,
   "id": "dc06a85f",
   "metadata": {},
   "outputs": [
    {
     "data": {
      "text/plain": [
       "0.9721973094170404"
      ]
     },
     "execution_count": 82,
     "metadata": {},
     "output_type": "execute_result"
    }
   ],
   "source": [
    "# calculating the accuracy score\n",
    "accuracy_score(y_test, classified_text)\n"
   ]
  },
  {
   "cell_type": "code",
   "execution_count": 83,
   "id": "9a39fd2d",
   "metadata": {},
   "outputs": [
    {
     "name": "stdout",
     "output_type": "stream",
     "text": [
      "['1' '0' '0']\n"
     ]
    }
   ],
   "source": [
    "# Predicting a new message\n",
    "\n",
    "test_message = vectorizer.transform( [\"Urgent, You've won a prize\", \"Hey, do we have college today?\", \"The IRS is trying to contact you\"] )\n",
    "predictions = classifier.predict(test_message)\n",
    "print(predictions)"
   ]
  }
 ],
 "metadata": {
  "kernelspec": {
   "display_name": "Python 3 (ipykernel)",
   "language": "python",
   "name": "python3"
  },
  "language_info": {
   "codemirror_mode": {
    "name": "ipython",
    "version": 3
   },
   "file_extension": ".py",
   "mimetype": "text/x-python",
   "name": "python",
   "nbconvert_exporter": "python",
   "pygments_lexer": "ipython3",
   "version": "3.9.13"
  }
 },
 "nbformat": 4,
 "nbformat_minor": 5
}
