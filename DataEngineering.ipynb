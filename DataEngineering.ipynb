{
 "cells": [
  {
   "cell_type": "markdown",
   "id": "3c1989cc",
   "metadata": {},
   "source": [
    "# This script is to demonstrate the data engineering steps"
   ]
  },
  {
   "cell_type": "code",
   "execution_count": 128,
   "id": "bf0de208",
   "metadata": {},
   "outputs": [],
   "source": [
    "# importing required libraries\n",
    "\n",
    "import pandas as pd # for data frames\n",
    "from sklearn.preprocessing import LabelEncoder # for encoding the column values\n",
    "from sklearn.impute import SimpleImputer # for imputation\n",
    "from sklearn.linear_model import LinearRegression # for Linear Regression model & imputation"
   ]
  },
  {
   "cell_type": "code",
   "execution_count": 129,
   "id": "afa426ae",
   "metadata": {},
   "outputs": [],
   "source": [
    "# Loading the data\n",
    "# Data Source (Kaggle Titanic Data set: https://www.kaggle.com/c/titanic)\n",
    "\n",
    "df = pd.read_csv('C:/Users/rm634391/Analytics/Kaggle/Titanic/train.csv')"
   ]
  },
  {
   "cell_type": "code",
   "execution_count": 130,
   "id": "47a71d93",
   "metadata": {},
   "outputs": [
    {
     "name": "stdout",
     "output_type": "stream",
     "text": [
      "(891, 12)\n"
     ]
    }
   ],
   "source": [
    "# Printing the number of rows & number of columns in data frame\n",
    "\n",
    "print (df.shape)"
   ]
  },
  {
   "cell_type": "code",
   "execution_count": 131,
   "id": "bee84b0d",
   "metadata": {},
   "outputs": [
    {
     "name": "stdout",
     "output_type": "stream",
     "text": [
      "<class 'pandas.core.frame.DataFrame'>\n",
      "RangeIndex: 891 entries, 0 to 890\n",
      "Data columns (total 12 columns):\n",
      " #   Column       Non-Null Count  Dtype  \n",
      "---  ------       --------------  -----  \n",
      " 0   PassengerId  891 non-null    int64  \n",
      " 1   Survived     891 non-null    int64  \n",
      " 2   Pclass       891 non-null    int64  \n",
      " 3   Name         891 non-null    object \n",
      " 4   Sex          891 non-null    object \n",
      " 5   Age          714 non-null    float64\n",
      " 6   SibSp        891 non-null    int64  \n",
      " 7   Parch        891 non-null    int64  \n",
      " 8   Ticket       891 non-null    object \n",
      " 9   Fare         891 non-null    float64\n",
      " 10  Cabin        204 non-null    object \n",
      " 11  Embarked     889 non-null    object \n",
      "dtypes: float64(2), int64(5), object(5)\n",
      "memory usage: 83.7+ KB\n",
      "None\n"
     ]
    }
   ],
   "source": [
    "# Information about the data frame\n",
    "\n",
    "print (df.info())"
   ]
  },
  {
   "cell_type": "markdown",
   "id": "8afc0812",
   "metadata": {},
   "source": [
    "### Dimensionality Reduction "
   ]
  },
  {
   "cell_type": "code",
   "execution_count": 132,
   "id": "5fa9c63f",
   "metadata": {},
   "outputs": [],
   "source": [
    "# Dropping the columns that are not required for the analysis\n",
    "\n",
    "cols = ['Name', 'Ticket', 'PassengerId', 'Cabin', 'Embarked']\n",
    "df = df.drop(cols, axis='columns')"
   ]
  },
  {
   "cell_type": "code",
   "execution_count": 133,
   "id": "e4086709",
   "metadata": {},
   "outputs": [
    {
     "name": "stdout",
     "output_type": "stream",
     "text": [
      "<class 'pandas.core.frame.DataFrame'>\n",
      "RangeIndex: 891 entries, 0 to 890\n",
      "Data columns (total 7 columns):\n",
      " #   Column    Non-Null Count  Dtype  \n",
      "---  ------    --------------  -----  \n",
      " 0   Survived  891 non-null    int64  \n",
      " 1   Pclass    891 non-null    int64  \n",
      " 2   Sex       891 non-null    object \n",
      " 3   Age       714 non-null    float64\n",
      " 4   SibSp     891 non-null    int64  \n",
      " 5   Parch     891 non-null    int64  \n",
      " 6   Fare      891 non-null    float64\n",
      "dtypes: float64(2), int64(4), object(1)\n",
      "memory usage: 48.9+ KB\n",
      "None\n"
     ]
    }
   ],
   "source": [
    "# Information about the data frame (after dropping the column)\n",
    "\n",
    "print (df.info())"
   ]
  },
  {
   "cell_type": "markdown",
   "id": "6186feae",
   "metadata": {},
   "source": [
    "### Label Encoding (Converting the labels into machine-readable numeric form)"
   ]
  },
  {
   "cell_type": "code",
   "execution_count": 134,
   "id": "4c0724d8",
   "metadata": {},
   "outputs": [
    {
     "name": "stdout",
     "output_type": "stream",
     "text": [
      "0      1\n",
      "1      0\n",
      "2      0\n",
      "3      0\n",
      "4      1\n",
      "      ..\n",
      "886    1\n",
      "887    0\n",
      "888    0\n",
      "889    1\n",
      "890    1\n",
      "Name: Sex, Length: 891, dtype: int32\n"
     ]
    }
   ],
   "source": [
    "# Encoding Sex column values (Female -> 0, Male -> 1)\n",
    "\n",
    "le = LabelEncoder()\n",
    "df['Sex'] = le.fit_transform(df['Sex'])\n",
    "print (df['Sex'])"
   ]
  },
  {
   "cell_type": "code",
   "execution_count": 135,
   "id": "4146f0e2",
   "metadata": {},
   "outputs": [
    {
     "name": "stdout",
     "output_type": "stream",
     "text": [
      "<class 'pandas.core.frame.DataFrame'>\n",
      "RangeIndex: 891 entries, 0 to 890\n",
      "Data columns (total 7 columns):\n",
      " #   Column    Non-Null Count  Dtype  \n",
      "---  ------    --------------  -----  \n",
      " 0   Survived  891 non-null    int64  \n",
      " 1   Pclass    891 non-null    int64  \n",
      " 2   Sex       891 non-null    int32  \n",
      " 3   Age       714 non-null    float64\n",
      " 4   SibSp     891 non-null    int64  \n",
      " 5   Parch     891 non-null    int64  \n",
      " 6   Fare      891 non-null    float64\n",
      "dtypes: float64(2), int32(1), int64(4)\n",
      "memory usage: 45.4 KB\n",
      "None\n"
     ]
    }
   ],
   "source": [
    "# Printing the data frame\n",
    "\n",
    "print (df.info())"
   ]
  },
  {
   "cell_type": "markdown",
   "id": "4d0e6d44",
   "metadata": {},
   "source": [
    "### Handling Missing Values"
   ]
  },
  {
   "cell_type": "code",
   "execution_count": 136,
   "id": "dfe177f1",
   "metadata": {},
   "outputs": [
    {
     "name": "stdout",
     "output_type": "stream",
     "text": [
      "     Survived  Pclass  Sex  Age  SibSp  Parch     Fare\n",
      "5           0       3    1  NaN      0      0   8.4583\n",
      "17          1       2    1  NaN      0      0  13.0000\n",
      "19          1       3    0  NaN      0      0   7.2250\n",
      "26          0       3    1  NaN      0      0   7.2250\n",
      "28          1       3    0  NaN      0      0   7.8792\n",
      "..        ...     ...  ...  ...    ...    ...      ...\n",
      "859         0       3    1  NaN      0      0   7.2292\n",
      "863         0       3    0  NaN      8      2  69.5500\n",
      "868         0       3    1  NaN      0      0   9.5000\n",
      "878         0       3    1  NaN      0      0   7.8958\n",
      "888         0       3    0  NaN      1      2  23.4500\n",
      "\n",
      "[177 rows x 7 columns]\n"
     ]
    }
   ],
   "source": [
    "# Identifying rows with null values\n",
    "\n",
    "print (df[df.isna().any(axis=1)])"
   ]
  },
  {
   "cell_type": "code",
   "execution_count": 138,
   "id": "e071376a",
   "metadata": {},
   "outputs": [
    {
     "name": "stdout",
     "output_type": "stream",
     "text": [
      "Survived      0\n",
      "Pclass        0\n",
      "Sex           0\n",
      "Age         177\n",
      "SibSp         0\n",
      "Parch         0\n",
      "Fare          0\n",
      "dtype: int64\n"
     ]
    }
   ],
   "source": [
    "# Identifying number of rows that are missing values by columns\n",
    "\n",
    "print(df.isnull().sum())"
   ]
  },
  {
   "cell_type": "code",
   "execution_count": 139,
   "id": "de672220",
   "metadata": {},
   "outputs": [
    {
     "name": "stdout",
     "output_type": "stream",
     "text": [
      "<class 'pandas.core.frame.DataFrame'>\n",
      "RangeIndex: 891 entries, 0 to 890\n",
      "Data columns (total 6 columns):\n",
      " #   Column    Non-Null Count  Dtype  \n",
      "---  ------    --------------  -----  \n",
      " 0   Survived  891 non-null    int64  \n",
      " 1   Pclass    891 non-null    int64  \n",
      " 2   Sex       891 non-null    int32  \n",
      " 3   SibSp     891 non-null    int64  \n",
      " 4   Parch     891 non-null    int64  \n",
      " 5   Fare      891 non-null    float64\n",
      "dtypes: float64(1), int32(1), int64(4)\n",
      "memory usage: 38.4 KB\n",
      "None\n"
     ]
    }
   ],
   "source": [
    "# Dropping columns that has null values\n",
    "\n",
    "dropColumnNAdf = df.dropna(axis=1)\n",
    "print(dropColumnNAdf.info())"
   ]
  },
  {
   "cell_type": "code",
   "execution_count": 140,
   "id": "46aa9869",
   "metadata": {},
   "outputs": [
    {
     "name": "stdout",
     "output_type": "stream",
     "text": [
      "<class 'pandas.core.frame.DataFrame'>\n",
      "Int64Index: 714 entries, 0 to 890\n",
      "Data columns (total 7 columns):\n",
      " #   Column    Non-Null Count  Dtype  \n",
      "---  ------    --------------  -----  \n",
      " 0   Survived  714 non-null    int64  \n",
      " 1   Pclass    714 non-null    int64  \n",
      " 2   Sex       714 non-null    int32  \n",
      " 3   Age       714 non-null    float64\n",
      " 4   SibSp     714 non-null    int64  \n",
      " 5   Parch     714 non-null    int64  \n",
      " 6   Fare      714 non-null    float64\n",
      "dtypes: float64(2), int32(1), int64(4)\n",
      "memory usage: 41.8 KB\n",
      "None\n"
     ]
    }
   ],
   "source": [
    "# Dropping rows that has null values\n",
    "\n",
    "dropRowNAdf = df.dropna(axis=0)\n",
    "print(dropRowNAdf.info())"
   ]
  },
  {
   "cell_type": "code",
   "execution_count": 141,
   "id": "daa05597",
   "metadata": {},
   "outputs": [
    {
     "name": "stdout",
     "output_type": "stream",
     "text": [
      "Survived    0\n",
      "Pclass      0\n",
      "Sex         0\n",
      "Age         0\n",
      "SibSp       0\n",
      "Parch       0\n",
      "Fare        0\n",
      "dtype: int64\n"
     ]
    }
   ],
   "source": [
    "# Identifying number of rows that are missing values by columns\n",
    "\n",
    "print(dropRowNAdf.isnull().sum())"
   ]
  },
  {
   "cell_type": "code",
   "execution_count": null,
   "id": "a6554e85",
   "metadata": {},
   "outputs": [],
   "source": [
    "# Filling missing values with imputation \n",
    "# Method: Average\n",
    "\n",
    "ageAverageImputedf = df.copy()\n",
    "ageAverageImputedf['Age']=ageAverageImputedf['Age'].fillna(ageAverageImputedf['Age'].mean())\n",
    "ageAverageImputedf.info()"
   ]
  },
  {
   "cell_type": "code",
   "execution_count": 143,
   "id": "17016de0",
   "metadata": {},
   "outputs": [
    {
     "name": "stdout",
     "output_type": "stream",
     "text": [
      "<class 'pandas.core.frame.DataFrame'>\n",
      "RangeIndex: 891 entries, 0 to 890\n",
      "Data columns (total 8 columns):\n",
      " #   Column      Non-Null Count  Dtype  \n",
      "---  ------      --------------  -----  \n",
      " 0   Survived    891 non-null    int64  \n",
      " 1   Pclass      891 non-null    int64  \n",
      " 2   Sex         891 non-null    int32  \n",
      " 3   Age         714 non-null    float64\n",
      " 4   SibSp       891 non-null    int64  \n",
      " 5   Parch       891 non-null    int64  \n",
      " 6   Fare        891 non-null    float64\n",
      " 7   AgeMissing  891 non-null    bool   \n",
      "dtypes: bool(1), float64(2), int32(1), int64(4)\n",
      "memory usage: 46.2 KB\n",
      "None\n",
      "     Survived  Pclass  Sex   Age  SibSp  Parch     Fare  AgeMissing\n",
      "0           0       3    1  22.0      1      0   7.2500       False\n",
      "1           1       1    0  38.0      1      0  71.2833       False\n",
      "2           1       3    0  26.0      0      0   7.9250       False\n",
      "3           1       1    0  35.0      1      0  53.1000       False\n",
      "4           0       3    1  35.0      0      0   8.0500       False\n",
      "..        ...     ...  ...   ...    ...    ...      ...         ...\n",
      "886         0       2    1  27.0      0      0  13.0000       False\n",
      "887         1       1    0  19.0      0      0  30.0000       False\n",
      "888         0       3    0   NaN      1      2  23.4500        True\n",
      "889         1       1    1  26.0      0      0  30.0000       False\n",
      "890         0       3    1  32.0      0      0   7.7500       False\n",
      "\n",
      "[891 rows x 8 columns]\n"
     ]
    }
   ],
   "source": [
    "# Filling missing values with imputation\n",
    "# Method: Additional Columns\n",
    "\n",
    "ageColumnImputedf = df.copy()\n",
    "ageColumnImputedf['AgeMissing'] = ageColumnImputedf['Age'].isnull()\n",
    "medianImputer = SimpleImputer(strategy = 'median')\n",
    "newDf = medianImputer.fit_transform(ageColumnImputedf)\n",
    "print (ageColumnImputedf.info())\n",
    "\n",
    "print(ageColumnImputedf)\n",
    "\n"
   ]
  },
  {
   "cell_type": "code",
   "execution_count": null,
   "id": "16b584d8",
   "metadata": {},
   "outputs": [],
   "source": [
    "# Imputation using regression model\n",
    "\n",
    "# Creating new linear regression\n",
    "lr = LinearRegression()\n",
    "print (df.head())"
   ]
  },
  {
   "cell_type": "code",
   "execution_count": null,
   "id": "187e0aad",
   "metadata": {},
   "outputs": [],
   "source": [
    "# Test data is extracted from the data frame where the age values are null\n",
    "traindf = df[df['Age'].isnull()==False]\n",
    "\n",
    "print (traindf.head())"
   ]
  },
  {
   "cell_type": "code",
   "execution_count": null,
   "id": "24ac73dd",
   "metadata": {},
   "outputs": [],
   "source": [
    "# Test data is extracted from the data frame where the age values are null\n",
    "testdf = df[df['Age'].isnull()==True]\n",
    "\n",
    "print (testdf.head())"
   ]
  },
  {
   "cell_type": "code",
   "execution_count": null,
   "id": "8ef215a3",
   "metadata": {},
   "outputs": [],
   "source": [
    "# Defining the y for the linear regression\n",
    "\n",
    "y = traindf['Age']\n",
    "\n",
    "print (y)"
   ]
  },
  {
   "cell_type": "code",
   "execution_count": null,
   "id": "6d8f8d0b",
   "metadata": {},
   "outputs": [],
   "source": [
    "# Training data frame is updated by dropping age from the training set\n",
    "\n",
    "traindf.drop(\"Age\",axis=1,inplace=True)\n",
    "\n",
    "\n",
    "print (traindf)\n"
   ]
  },
  {
   "cell_type": "code",
   "execution_count": null,
   "id": "522db1e6",
   "metadata": {},
   "outputs": [],
   "source": [
    "# Fitting the linear regression\n",
    "lr.fit(traindf,y)\n",
    "\n",
    "# Dropping age from test data\n",
    "testdf.drop(\"Age\",axis=1,inplace=True)\n",
    "\n",
    "# Predicting the value and popuating test data set with prediction\n",
    "pred = lr.predict(testdf)\n",
    "testdf['Age']= pred\n",
    "\n",
    "print (testdf)"
   ]
  },
  {
   "cell_type": "code",
   "execution_count": null,
   "id": "ee486a17",
   "metadata": {},
   "outputs": [],
   "source": []
  }
 ],
 "metadata": {
  "kernelspec": {
   "display_name": "Python 3",
   "language": "python",
   "name": "python3"
  },
  "language_info": {
   "codemirror_mode": {
    "name": "ipython",
    "version": 3
   },
   "file_extension": ".py",
   "mimetype": "text/x-python",
   "name": "python",
   "nbconvert_exporter": "python",
   "pygments_lexer": "ipython3",
   "version": "3.9.12"
  }
 },
 "nbformat": 4,
 "nbformat_minor": 5
}
