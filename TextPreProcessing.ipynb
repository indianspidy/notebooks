{
 "cells": [
  {
   "cell_type": "markdown",
   "id": "f11895de",
   "metadata": {},
   "source": [
    "# This script is to demonstrate the text pre-processing steps"
   ]
  },
  {
   "cell_type": "code",
   "execution_count": 48,
   "id": "36ab6717",
   "metadata": {},
   "outputs": [],
   "source": [
    "# Downloads. Uncomment and execute if you are using first time\n",
    "#nltk.download('wordnet') # To download wordnet\n",
    "#nltk.download('omw-1.4') # To download omw-1.4\n",
    "#nltk.download('averaged_perceptron_tagger')# for POS tagging\n",
    "#nltk.download('stopwords') # for stop words\n",
    "#nltk.download('punkt') # forsentence tokenization\n",
    "\n",
    "\n",
    "\n",
    "# Importing required libraries\n",
    "import nltk # for natural language processing\n",
    "import re # for regular expression\n",
    "import string # for punctuations\n",
    "from nltk.corpus import stopwords # For stop words removal\n",
    "from nltk.stem import PorterStemmer # For stemming\n",
    "from nltk.stem import WordNetLemmatizer # For Lemmatizer\n",
    "from nltk.tokenize import sent_tokenize # For sentence tokenization\n",
    "from nltk.tokenize import word_tokenize # For work tokenization"
   ]
  },
  {
   "cell_type": "code",
   "execution_count": 49,
   "id": "02c7babb",
   "metadata": {},
   "outputs": [],
   "source": [
    "# Loading the text for pre-processing\n",
    "\n",
    "text = \"\"\"\n",
    "'You can't run away from truth'\n",
    "'What do you mean?'\n",
    "Truth strikes you every second of your life, You try to hide ,but it is\n",
    "the light of your life, And  you can't keep it shut, It's 1 lamp that\n",
    "shows the right way,\n",
    "TRUTH can never be contained or controlled\n",
    "\"\"\""
   ]
  },
  {
   "cell_type": "code",
   "execution_count": 50,
   "id": "73438c27",
   "metadata": {},
   "outputs": [],
   "source": [
    "# Step 1: Expanding contractions\n",
    "\n",
    "contractionDictionary = {\"can't\": \"can not\",\"'s\":\" is\"}\n",
    "\n",
    "# Regular expression for finding contractions\n",
    "contractionsRegExp=re.compile('(%s)' % '|'.join(contractionDictionary.keys()))\n",
    "\n",
    "# Function for expanding contraction\n",
    "def expandContractions(text,contractionDictionary=contractionDictionary):\n",
    "    def replace(match):\n",
    "        return contractionDictionary[match.group(0)]\n",
    "    return contractionsRegExp.sub(replace, text)\n",
    "\n",
    "# Expanding Contractions in our text file\n",
    "text = expandContractions(text)"
   ]
  },
  {
   "cell_type": "code",
   "execution_count": 51,
   "id": "77b6ba62",
   "metadata": {},
   "outputs": [
    {
     "name": "stdout",
     "output_type": "stream",
     "text": [
      "\n",
      "'You can not run away from truth'\n",
      "'What do you mean?'\n",
      "Truth strikes you every second of your life, You try to hide ,but it is\n",
      "the light of your life, And  you can not keep it shut, It is 1 lamp that\n",
      "shows the right way,\n",
      "TRUTH can never be contained or controlled\n",
      "\n"
     ]
    }
   ],
   "source": [
    "# Printing the text\n",
    "print (text)"
   ]
  },
  {
   "cell_type": "code",
   "execution_count": 52,
   "id": "497892ee",
   "metadata": {},
   "outputs": [],
   "source": [
    "# Step 2: Converting the text into lowercase\n",
    "text = text.lower()"
   ]
  },
  {
   "cell_type": "code",
   "execution_count": 53,
   "id": "cca301fe",
   "metadata": {},
   "outputs": [
    {
     "name": "stdout",
     "output_type": "stream",
     "text": [
      "\n",
      "'you can not run away from truth'\n",
      "'what do you mean?'\n",
      "truth strikes you every second of your life, you try to hide ,but it is\n",
      "the light of your life, and  you can not keep it shut, it is 1 lamp that\n",
      "shows the right way,\n",
      "truth can never be contained or controlled\n",
      "\n"
     ]
    }
   ],
   "source": [
    "# Printing the text\n",
    "print (text)"
   ]
  },
  {
   "cell_type": "code",
   "execution_count": 54,
   "id": "d5c391b5",
   "metadata": {},
   "outputs": [],
   "source": [
    "# Step 3: Removal of punctuations\n",
    "text = re.sub('[%s]' % re.escape(string.punctuation), '', text)"
   ]
  },
  {
   "cell_type": "code",
   "execution_count": 55,
   "id": "03435142",
   "metadata": {},
   "outputs": [
    {
     "name": "stdout",
     "output_type": "stream",
     "text": [
      "\n",
      "you can not run away from truth\n",
      "what do you mean\n",
      "truth strikes you every second of your life you try to hide but it is\n",
      "the light of your life and  you can not keep it shut it is 1 lamp that\n",
      "shows the right way\n",
      "truth can never be contained or controlled\n",
      "\n"
     ]
    }
   ],
   "source": [
    "# Printing the text\n",
    "print (text)"
   ]
  },
  {
   "cell_type": "code",
   "execution_count": 56,
   "id": "623fa424",
   "metadata": {},
   "outputs": [],
   "source": [
    "# Step 4: Remove words and digits containing digits\n",
    "text = re.sub(r'[0-9]','', text)"
   ]
  },
  {
   "cell_type": "code",
   "execution_count": 57,
   "id": "9213cf8f",
   "metadata": {},
   "outputs": [
    {
     "name": "stdout",
     "output_type": "stream",
     "text": [
      "\n",
      "you can not run away from truth\n",
      "what do you mean\n",
      "truth strikes you every second of your life you try to hide but it is\n",
      "the light of your life and  you can not keep it shut it is  lamp that\n",
      "shows the right way\n",
      "truth can never be contained or controlled\n",
      "\n"
     ]
    }
   ],
   "source": [
    "# Printing the text\n",
    "print (text)"
   ]
  },
  {
   "cell_type": "code",
   "execution_count": 58,
   "id": "1d312971",
   "metadata": {},
   "outputs": [],
   "source": [
    "# Step 5: Removal of stop words\n",
    "\n",
    "stopWords = set(stopwords.words('english'))\n",
    "\n",
    "text = \" \".join([word for word in str(text).split() if word not in stopWords])"
   ]
  },
  {
   "cell_type": "code",
   "execution_count": 59,
   "id": "c45a17bf",
   "metadata": {},
   "outputs": [
    {
     "name": "stdout",
     "output_type": "stream",
     "text": [
      "run away truth mean truth strikes every second life try hide light life keep shut lamp shows right way truth never contained controlled\n"
     ]
    }
   ],
   "source": [
    "# Printing the text\n",
    "print (text)"
   ]
  },
  {
   "cell_type": "code",
   "execution_count": 60,
   "id": "3b0b74b6",
   "metadata": {},
   "outputs": [],
   "source": [
    "# Step 5a: Removal of stop words specific to domain\n",
    "\n",
    "stopWords.add('life')\n",
    "\n",
    "text = \" \".join([word for word in str(text).split() if word not in stopWords])"
   ]
  },
  {
   "cell_type": "code",
   "execution_count": 61,
   "id": "4122bdc8",
   "metadata": {},
   "outputs": [
    {
     "name": "stdout",
     "output_type": "stream",
     "text": [
      "run away truth mean truth strikes every second try hide light keep shut lamp shows right way truth never contained controlled\n"
     ]
    }
   ],
   "source": [
    "# Printing the text\n",
    "print (text)"
   ]
  },
  {
   "cell_type": "code",
   "execution_count": 62,
   "id": "8b40459e",
   "metadata": {},
   "outputs": [],
   "source": [
    "# Step 6: Stemming\n",
    "\n",
    "stemmer = PorterStemmer()\n",
    "\n",
    "text = \" \".join([stemmer.stem(word) for word in text.split()])"
   ]
  },
  {
   "cell_type": "code",
   "execution_count": 63,
   "id": "33cec018",
   "metadata": {},
   "outputs": [
    {
     "name": "stdout",
     "output_type": "stream",
     "text": [
      "run away truth mean truth strike everi second tri hide light keep shut lamp show right way truth never contain control\n"
     ]
    }
   ],
   "source": [
    "# Printing the text\n",
    "print (text)"
   ]
  },
  {
   "cell_type": "code",
   "execution_count": 64,
   "id": "767f26d0",
   "metadata": {},
   "outputs": [],
   "source": [
    "# Step 7: Lemmatization\n",
    "\n",
    "lemmatizer = WordNetLemmatizer()\n",
    "\n",
    "text = \" \".join([lemmatizer.lemmatize(word) for word in text.split()])"
   ]
  },
  {
   "cell_type": "code",
   "execution_count": 65,
   "id": "927f0d4b",
   "metadata": {},
   "outputs": [
    {
     "name": "stdout",
     "output_type": "stream",
     "text": [
      "run away truth mean truth strike everi second tri hide light keep shut lamp show right way truth never contain control\n"
     ]
    }
   ],
   "source": [
    "# Printing the text\n",
    "print (text)"
   ]
  },
  {
   "cell_type": "code",
   "execution_count": 66,
   "id": "d497b61c",
   "metadata": {},
   "outputs": [],
   "source": [
    "# Step 8: Remove Extra Spaces\n",
    "\n",
    "text = re.sub(' +', ' ', text)"
   ]
  },
  {
   "cell_type": "code",
   "execution_count": 67,
   "id": "53485dc5",
   "metadata": {},
   "outputs": [
    {
     "name": "stdout",
     "output_type": "stream",
     "text": [
      "run away truth mean truth strike everi second tri hide light keep shut lamp show right way truth never contain control\n"
     ]
    }
   ],
   "source": [
    "# Printing the text\n",
    "print (text)"
   ]
  },
  {
   "cell_type": "code",
   "execution_count": 68,
   "id": "79437f67",
   "metadata": {},
   "outputs": [
    {
     "name": "stdout",
     "output_type": "stream",
     "text": [
      "['run away truth mean truth strike everi second tri hide light keep shut lamp show right way truth never contain control']\n"
     ]
    }
   ],
   "source": [
    "# Step 9: Tokenization (Sentence)\n",
    "\n",
    "tokenized_sentence=sent_tokenize(text)\n",
    "\n",
    "print(tokenized_sentence)"
   ]
  },
  {
   "cell_type": "code",
   "execution_count": 69,
   "id": "88821679",
   "metadata": {},
   "outputs": [
    {
     "name": "stdout",
     "output_type": "stream",
     "text": [
      "['run', 'away', 'truth', 'mean', 'truth', 'strike', 'everi', 'second', 'tri', 'hide', 'light', 'keep', 'shut', 'lamp', 'show', 'right', 'way', 'truth', 'never', 'contain', 'control']\n"
     ]
    }
   ],
   "source": [
    "# Step 9a: Tokenization (Words)\n",
    "\n",
    "tokenized_word=word_tokenize(text)\n",
    "\n",
    "print(tokenized_word)"
   ]
  },
  {
   "cell_type": "markdown",
   "id": "545764a4",
   "metadata": {},
   "source": [
    "### Part-Of-Speech Tagging\n",
    "\n",
    "To identify the grammatical group of a given word. \n",
    "\n",
    "<B>Nouns</B>\n",
    "NN(noun singular),  NNP(proper noun singular) NNS(noun plural) and NNPS(proper noun plural).\n",
    "\n",
    "<B>Main Verbs</B>\n",
    "VB(base form), VBD(past tense), VBG(gerund/present participle), VBN (past participle), VBP(singular present, non-3d), VBZ (3rd person singular present).\n",
    "\n",
    "\n",
    "<B>Others</B><BR>\n",
    "<PRE>CC: coordinating conjunction\n",
    "CD: cardinal digit\n",
    "DT: determiner\n",
    "EX: existential there (like: \"there is\" ... think of it like \"there exists\")\n",
    "FW: foreign word\n",
    "IN: preposition/subordinating conjunction\n",
    "JJ: adjective\t'big'\n",
    "JJR: adjective, comparative\t'bigger'\n",
    "JJS: adjective, superlative\t'biggest'\n",
    "LS: list marker\t1)\n",
    "MD: modal\tcould, will\n",
    "PDT: predeterminer\t'all the kids'\n",
    "POS: possessive ending\tparent\\'s\n",
    "PRP: personal pronoun\tI, he, she\n",
    "\"PRP\\$\": possessive pronoun\tmy, his, hers\n",
    "RB: adverb\tvery, silently,\n",
    "RBR: adverb, comparative\tbetter\n",
    "RBS: adverb, superlative\tbest\n",
    "RP: particle\tgive up\n",
    "TO: to\tgo 'to' the store.\n",
    "UH: interjection\terrrrrrrrm\n",
    "WDT: wh-determiner\twhich\n",
    "WP: wh-pronoun\twho, what\n",
    "WP$: possessive wh-pronoun\twhose\n",
    "WRB: wh-abverb\twhere, when\n",
    "</PRE>"
   ]
  },
  {
   "cell_type": "code",
   "execution_count": 72,
   "id": "21909398",
   "metadata": {},
   "outputs": [
    {
     "data": {
      "text/plain": [
       "[('You', 'PRP'),\n",
       " ('are', 'VBP'),\n",
       " ('an', 'DT'),\n",
       " ('amazing', 'JJ'),\n",
       " ('student', 'NN')]"
      ]
     },
     "execution_count": 72,
     "metadata": {},
     "output_type": "execute_result"
    }
   ],
   "source": [
    "# Categorization: Part of Speech Tagging (POS)\n",
    "nltk.pos_tag([\"You\", \"are\", \"an\", \"amazing\", \"student\"])"
   ]
  },
  {
   "cell_type": "code",
   "execution_count": null,
   "id": "54be5732",
   "metadata": {},
   "outputs": [],
   "source": []
  }
 ],
 "metadata": {
  "kernelspec": {
   "display_name": "Python 3 (ipykernel)",
   "language": "python",
   "name": "python3"
  },
  "language_info": {
   "codemirror_mode": {
    "name": "ipython",
    "version": 3
   },
   "file_extension": ".py",
   "mimetype": "text/x-python",
   "name": "python",
   "nbconvert_exporter": "python",
   "pygments_lexer": "ipython3",
   "version": "3.9.13"
  }
 },
 "nbformat": 4,
 "nbformat_minor": 5
}
