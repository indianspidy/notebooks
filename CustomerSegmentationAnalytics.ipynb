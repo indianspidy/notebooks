{
 "cells": [
  {
   "cell_type": "markdown",
   "id": "be004fc3",
   "metadata": {},
   "source": [
    "###### Introduction\n",
    "\n",
    "Goal of this notebook is to perform EDA & clustering using k-means on the customer segmentation data to be able to learn the market basket analysis.\n",
    "\n",
    "To know more about customer segmentation, please check this out: https://www.qualtrics.com/experience-management/brand/customer-segmentation/#:~:text=Customer%20segmentation%20is%20the%20process,of%20building%20a%20marketing%20persona.\n",
    "\n",
    "The problem and dataset: https://www.kaggle.com/datasets/vjchoudhary7/customer-segmentation-tutorial-in-python\n",
    "\n",
    "References:\n",
    "\n",
    "https://www.analyticsvidhya.com/blog/2020/12/a-detailed-introduction-to-k-means-clustering-in-python/\n",
    "\n",
    "https://www.geeksforgeeks.org/elbow-method-for-optimal-value-of-k-in-kmeans/\n"
   ]
  },
  {
   "cell_type": "code",
   "execution_count": null,
   "id": "b6497ec0",
   "metadata": {},
   "outputs": [],
   "source": [
    "# -*- coding: utf-8 -*-\n",
    "# importing required libraries\n",
    "\n",
    "import pandas as pd\n",
    "import seaborn as sn\n",
    "import matplotlib.pyplot as plt\n",
    "import numpy as np\n",
    "from sklearn import preprocessing\n",
    "from sklearn.cluster import KMeans\n",
    "from sklearn.metrics import silhouette_samples, silhouette_score\n",
    "from scipy.spatial.distance import cdist"
   ]
  },
  {
   "cell_type": "code",
   "execution_count": null,
   "id": "f97a6a12",
   "metadata": {},
   "outputs": [],
   "source": [
    "# Creating data frame and ingesting the data from .csv file into the data frame\n",
    "df = pd.read_csv('C:/Users/rm634391/Analytics/Kaggle/CustomerSegmentation/Mall_Customers.csv')"
   ]
  },
  {
   "cell_type": "markdown",
   "id": "ca59fe68",
   "metadata": {},
   "source": [
    "###### Understanding the dataset (Descriptive Statistics)\n",
    "\n",
    "This helps when we want to cluster the target (focused) group later."
   ]
  },
  {
   "cell_type": "code",
   "execution_count": 292,
   "id": "6e99c841",
   "metadata": {},
   "outputs": [
    {
     "data": {
      "text/html": [
       "<div>\n",
       "<style scoped>\n",
       "    .dataframe tbody tr th:only-of-type {\n",
       "        vertical-align: middle;\n",
       "    }\n",
       "\n",
       "    .dataframe tbody tr th {\n",
       "        vertical-align: top;\n",
       "    }\n",
       "\n",
       "    .dataframe thead th {\n",
       "        text-align: right;\n",
       "    }\n",
       "</style>\n",
       "<table border=\"1\" class=\"dataframe\">\n",
       "  <thead>\n",
       "    <tr style=\"text-align: right;\">\n",
       "      <th></th>\n",
       "      <th>CustomerID</th>\n",
       "      <th>Gender</th>\n",
       "      <th>Age</th>\n",
       "      <th>Annual Income (k$)</th>\n",
       "      <th>Spending Score (1-100)</th>\n",
       "    </tr>\n",
       "  </thead>\n",
       "  <tbody>\n",
       "    <tr>\n",
       "      <th>0</th>\n",
       "      <td>1</td>\n",
       "      <td>Male</td>\n",
       "      <td>19</td>\n",
       "      <td>15</td>\n",
       "      <td>39</td>\n",
       "    </tr>\n",
       "    <tr>\n",
       "      <th>1</th>\n",
       "      <td>2</td>\n",
       "      <td>Male</td>\n",
       "      <td>21</td>\n",
       "      <td>15</td>\n",
       "      <td>81</td>\n",
       "    </tr>\n",
       "    <tr>\n",
       "      <th>2</th>\n",
       "      <td>3</td>\n",
       "      <td>Female</td>\n",
       "      <td>20</td>\n",
       "      <td>16</td>\n",
       "      <td>6</td>\n",
       "    </tr>\n",
       "    <tr>\n",
       "      <th>3</th>\n",
       "      <td>4</td>\n",
       "      <td>Female</td>\n",
       "      <td>23</td>\n",
       "      <td>16</td>\n",
       "      <td>77</td>\n",
       "    </tr>\n",
       "    <tr>\n",
       "      <th>4</th>\n",
       "      <td>5</td>\n",
       "      <td>Female</td>\n",
       "      <td>31</td>\n",
       "      <td>17</td>\n",
       "      <td>40</td>\n",
       "    </tr>\n",
       "  </tbody>\n",
       "</table>\n",
       "</div>"
      ],
      "text/plain": [
       "  CustomerID  Gender  Age  Annual Income (k$)  Spending Score (1-100)\n",
       "0          1    Male   19                  15                      39\n",
       "1          2    Male   21                  15                      81\n",
       "2          3  Female   20                  16                       6\n",
       "3          4  Female   23                  16                      77\n",
       "4          5  Female   31                  17                      40"
      ]
     },
     "execution_count": 292,
     "metadata": {},
     "output_type": "execute_result"
    }
   ],
   "source": [
    "# Printing few rows of the data frame\n",
    "df.head()"
   ]
  },
  {
   "cell_type": "code",
   "execution_count": null,
   "id": "93b30965",
   "metadata": {},
   "outputs": [],
   "source": [
    "# Printing the number of rows & number of columns in data frame\n",
    "df.shape"
   ]
  },
  {
   "cell_type": "code",
   "execution_count": null,
   "id": "cb49dea7",
   "metadata": {},
   "outputs": [],
   "source": [
    "# Printing data types of each column\n",
    "datatypes = df.dtypes\n",
    "datatypes"
   ]
  },
  {
   "cell_type": "code",
   "execution_count": null,
   "id": "1e8f8c44",
   "metadata": {},
   "outputs": [],
   "source": [
    "# Printing the information about the data frame \n",
    "df.info()"
   ]
  },
  {
   "cell_type": "code",
   "execution_count": null,
   "id": "230054ab",
   "metadata": {},
   "outputs": [],
   "source": [
    "# Counting total null values in the data frame\n",
    "df.isnull().sum()"
   ]
  },
  {
   "cell_type": "code",
   "execution_count": null,
   "id": "f4ade84d",
   "metadata": {},
   "outputs": [],
   "source": [
    "# Counting null values in the data frame by rows\n",
    "for i in range(len(df.index)) :\n",
    "    print(\" Total NaN in row\", i + 1, \":\",\n",
    "          df.iloc[i].isnull().sum())"
   ]
  },
  {
   "cell_type": "code",
   "execution_count": 289,
   "id": "8ad09aae",
   "metadata": {},
   "outputs": [
    {
     "data": {
      "text/html": [
       "<div>\n",
       "<style scoped>\n",
       "    .dataframe tbody tr th:only-of-type {\n",
       "        vertical-align: middle;\n",
       "    }\n",
       "\n",
       "    .dataframe tbody tr th {\n",
       "        vertical-align: top;\n",
       "    }\n",
       "\n",
       "    .dataframe thead th {\n",
       "        text-align: right;\n",
       "    }\n",
       "</style>\n",
       "<table border=\"1\" class=\"dataframe\">\n",
       "  <thead>\n",
       "    <tr style=\"text-align: right;\">\n",
       "      <th></th>\n",
       "      <th>count</th>\n",
       "      <th>mean</th>\n",
       "      <th>std</th>\n",
       "      <th>min</th>\n",
       "      <th>25%</th>\n",
       "      <th>50%</th>\n",
       "      <th>75%</th>\n",
       "      <th>max</th>\n",
       "    </tr>\n",
       "  </thead>\n",
       "  <tbody>\n",
       "    <tr>\n",
       "      <th>Age</th>\n",
       "      <td>200.0</td>\n",
       "      <td>38.85</td>\n",
       "      <td>13.969007</td>\n",
       "      <td>18.0</td>\n",
       "      <td>28.75</td>\n",
       "      <td>36.0</td>\n",
       "      <td>49.0</td>\n",
       "      <td>70.0</td>\n",
       "    </tr>\n",
       "    <tr>\n",
       "      <th>Annual Income (k$)</th>\n",
       "      <td>200.0</td>\n",
       "      <td>60.56</td>\n",
       "      <td>26.264721</td>\n",
       "      <td>15.0</td>\n",
       "      <td>41.50</td>\n",
       "      <td>61.5</td>\n",
       "      <td>78.0</td>\n",
       "      <td>137.0</td>\n",
       "    </tr>\n",
       "    <tr>\n",
       "      <th>Spending Score (1-100)</th>\n",
       "      <td>200.0</td>\n",
       "      <td>50.20</td>\n",
       "      <td>25.823522</td>\n",
       "      <td>1.0</td>\n",
       "      <td>34.75</td>\n",
       "      <td>50.0</td>\n",
       "      <td>73.0</td>\n",
       "      <td>99.0</td>\n",
       "    </tr>\n",
       "  </tbody>\n",
       "</table>\n",
       "</div>"
      ],
      "text/plain": [
       "                        count   mean        std   min    25%   50%   75%  \\\n",
       "Age                     200.0  38.85  13.969007  18.0  28.75  36.0  49.0   \n",
       "Annual Income (k$)      200.0  60.56  26.264721  15.0  41.50  61.5  78.0   \n",
       "Spending Score (1-100)  200.0  50.20  25.823522   1.0  34.75  50.0  73.0   \n",
       "\n",
       "                          max  \n",
       "Age                      70.0  \n",
       "Annual Income (k$)      137.0  \n",
       "Spending Score (1-100)   99.0  "
      ]
     },
     "execution_count": 289,
     "metadata": {},
     "output_type": "execute_result"
    }
   ],
   "source": [
    "# Simple statistics of the data frame\n",
    "df.describe().T"
   ]
  },
  {
   "cell_type": "markdown",
   "id": "4792b2c7",
   "metadata": {},
   "source": [
    "###### Below steps are to convert data types"
   ]
  },
  {
   "cell_type": "code",
   "execution_count": null,
   "id": "714aab7b",
   "metadata": {},
   "outputs": [],
   "source": [
    "# Data type conversion (CustomerID is stored as integer, we can convert it into string)\n",
    "df['Gender'] = df['Gender'].astype('str')\n",
    "df['CustomerID'] = df['CustomerID'].astype('str')\n",
    "dtype = df.dtypes\n",
    "dtype"
   ]
  },
  {
   "cell_type": "code",
   "execution_count": null,
   "id": "19facc1a",
   "metadata": {},
   "outputs": [],
   "source": [
    "df.info()"
   ]
  },
  {
   "cell_type": "markdown",
   "id": "6d8f9c40",
   "metadata": {},
   "source": [
    "###### Data Visualization"
   ]
  },
  {
   "cell_type": "code",
   "execution_count": 290,
   "id": "af5445d3",
   "metadata": {},
   "outputs": [
    {
     "data": {
      "text/plain": [
       "<seaborn.axisgrid.FacetGrid at 0x24139cc6910>"
      ]
     },
     "execution_count": 290,
     "metadata": {},
     "output_type": "execute_result"
    },
    {
     "data": {
      "image/png": "[encoded data removed]",
      "text/plain": [
       "<Figure size 360x360 with 1 Axes>"
      ]
     },
     "metadata": {
      "needs_background": "light"
     },
     "output_type": "display_data"
    },
    {
     "data": {
      "image/png": "[encoded data removed]",
      "text/plain": [
       "<Figure size 360x360 with 1 Axes>"
      ]
     },
     "metadata": {
      "needs_background": "light"
     },
     "output_type": "display_data"
    },
    {
     "data": {
      "image/png": "[encoded data removed]",
      "text/plain": [
       "<Figure size 360x360 with 1 Axes>"
      ]
     },
     "metadata": {
      "needs_background": "light"
     },
     "output_type": "display_data"
    },
    {
     "data": {
      "image/png": "[encoded data removed]",
      "text/plain": [
       "<Figure size 360x360 with 1 Axes>"
      ]
     },
     "metadata": {
      "needs_background": "light"
     },
     "output_type": "display_data"
    }
   ],
   "source": [
    "# Let us understand the distribution of each attributes (age, annual income & spending score)\n",
    "\n",
    "# Distribution of age\n",
    "sn.displot(data=df, x=\"Age\", kind=\"hist\", aspect=1)\n",
    "\n",
    "# Distribution of Annual Income\n",
    "sn.displot(data=df, x=\"Annual Income (k$)\", kind=\"hist\", aspect=1)\n",
    "\n",
    "\n",
    "# Distribution of Spending Score\n",
    "sn.displot(data=df, x=\"Spending Score (1-100)\", kind=\"hist\", aspect=1)\n",
    "\n",
    "# Distribution of Gender\n",
    "sn.displot(data=df, x=\"Gender\", kind=\"hist\", aspect=1)"
   ]
  },
  {
   "cell_type": "code",
   "execution_count": 291,
   "id": "7c42dd8f",
   "metadata": {},
   "outputs": [
    {
     "data": {
      "text/plain": [
       "<seaborn.axisgrid.FacetGrid at 0x24139cd7eb0>"
      ]
     },
     "execution_count": 291,
     "metadata": {},
     "output_type": "execute_result"
    },
    {
     "data": {
      "image/png": "[encoded data removed]",
      "text/plain": [
       "<Figure size 720x360 with 2 Axes>"
      ]
     },
     "metadata": {
      "needs_background": "light"
     },
     "output_type": "display_data"
    }
   ],
   "source": [
    "# Let us understand the distribution of each attributes (age) with another dimension Gender\n",
    "\n",
    "# Distribution of age with column\n",
    "sn.displot(data=df, x=\"Age\", col=\"Gender\", kind=\"hist\", aspect=1)"
   ]
  },
  {
   "cell_type": "markdown",
   "id": "d49b057a",
   "metadata": {},
   "source": [
    "###### Correlation (Diagnostic Analytics)"
   ]
  },
  {
   "cell_type": "code",
   "execution_count": 293,
   "id": "8761d75e",
   "metadata": {},
   "outputs": [],
   "source": [
    "# Correlation Analysis\n",
    "# We can exclude CustomerID from the data frame\n",
    "df = df.loc[:, df.columns != 'CustomerID']"
   ]
  },
  {
   "cell_type": "code",
   "execution_count": 294,
   "id": "8480deae",
   "metadata": {},
   "outputs": [
    {
     "data": {
      "text/plain": [
       "<AxesSubplot:>"
      ]
     },
     "execution_count": 294,
     "metadata": {},
     "output_type": "execute_result"
    },
    {
     "data": {
      "image/png": "[encoded data removed]",
      "text/plain": [
       "<Figure size 432x288 with 2 Axes>"
      ]
     },
     "metadata": {
      "needs_background": "light"
     },
     "output_type": "display_data"
    }
   ],
   "source": [
    "# Checking for correlation\n",
    "\n",
    "# Creating a correlation matrix from the data frame\n",
    "corrMatrix = df.corr()\n",
    "\n",
    "# Plotting using heatmap\n",
    "sn.heatmap(corrMatrix, annot = True, cmap= 'coolwarm')"
   ]
  },
  {
   "cell_type": "markdown",
   "id": "83c9c1d3",
   "metadata": {},
   "source": [
    "The above correlation depicts weak relationship between Annual income & spending score. Also there is negative correlation between age & spending score (with a score of .33)"
   ]
  },
  {
   "cell_type": "code",
   "execution_count": 295,
   "id": "73a19977",
   "metadata": {},
   "outputs": [
    {
     "data": {
      "text/html": [
       "<div>\n",
       "<style scoped>\n",
       "    .dataframe tbody tr th:only-of-type {\n",
       "        vertical-align: middle;\n",
       "    }\n",
       "\n",
       "    .dataframe tbody tr th {\n",
       "        vertical-align: top;\n",
       "    }\n",
       "\n",
       "    .dataframe thead th {\n",
       "        text-align: right;\n",
       "    }\n",
       "</style>\n",
       "<table border=\"1\" class=\"dataframe\">\n",
       "  <thead>\n",
       "    <tr style=\"text-align: right;\">\n",
       "      <th></th>\n",
       "      <th>Age</th>\n",
       "      <th>Annual Income (k$)</th>\n",
       "      <th>Spending Score (1-100)</th>\n",
       "    </tr>\n",
       "  </thead>\n",
       "  <tbody>\n",
       "    <tr>\n",
       "      <th>Age</th>\n",
       "      <td>1.000000</td>\n",
       "      <td>0.008198</td>\n",
       "      <td>-0.210757</td>\n",
       "    </tr>\n",
       "    <tr>\n",
       "      <th>Annual Income (k$)</th>\n",
       "      <td>0.008198</td>\n",
       "      <td>1.000000</td>\n",
       "      <td>-0.000765</td>\n",
       "    </tr>\n",
       "    <tr>\n",
       "      <th>Spending Score (1-100)</th>\n",
       "      <td>-0.210757</td>\n",
       "      <td>-0.000765</td>\n",
       "      <td>1.000000</td>\n",
       "    </tr>\n",
       "  </tbody>\n",
       "</table>\n",
       "</div>"
      ],
      "text/plain": [
       "                             Age  Annual Income (k$)  Spending Score (1-100)\n",
       "Age                     1.000000            0.008198               -0.210757\n",
       "Annual Income (k$)      0.008198            1.000000               -0.000765\n",
       "Spending Score (1-100) -0.210757           -0.000765                1.000000"
      ]
     },
     "execution_count": 295,
     "metadata": {},
     "output_type": "execute_result"
    }
   ],
   "source": [
    "# Correlation using kendall method\n",
    "df.corr(method ='kendall')"
   ]
  },
  {
   "cell_type": "code",
   "execution_count": 298,
   "id": "7e8a5914",
   "metadata": {},
   "outputs": [
    {
     "data": {
      "image/png": "[encoded data removed]",
      "text/plain": [
       "<Figure size 432x288 with 1 Axes>"
      ]
     },
     "metadata": {
      "needs_background": "light"
     },
     "output_type": "display_data"
    },
    {
     "data": {
      "image/png": "[encoded data removed]",
      "text/plain": [
       "<Figure size 432x288 with 1 Axes>"
      ]
     },
     "metadata": {
      "needs_background": "light"
     },
     "output_type": "display_data"
    }
   ],
   "source": [
    "# Scatter plot for two variables\n",
    "# plot of Age & Spending Score\n",
    "df.plot.scatter(x = 'Age', y = 'Spending Score (1-100)', s = 100, c = 'red');\n",
    "\n",
    "# plot of Annual Income & Spending Score\n",
    "df.plot.scatter(x = 'Annual Income (k$)', y = 'Spending Score (1-100)', s = 100, c = 'green');"
   ]
  },
  {
   "cell_type": "markdown",
   "id": "e2e73ceb",
   "metadata": {},
   "source": [
    "###### Clustering using K-Means"
   ]
  },
  {
   "cell_type": "code",
   "execution_count": 299,
   "id": "52035706",
   "metadata": {},
   "outputs": [],
   "source": [
    "# Selecting data frame only with numeric. Hence removing the 'Gender' column from data frame\n",
    "df = df.loc[:, df.columns != 'Gender']"
   ]
  },
  {
   "cell_type": "markdown",
   "id": "c8d74379",
   "metadata": {},
   "source": [
    "Before performing k-means clustering, we need to find the optimal k (number of clusters). We will be leveraging Elbow method to find the optimal k"
   ]
  },
  {
   "cell_type": "code",
   "execution_count": 300,
   "id": "76602c76",
   "metadata": {},
   "outputs": [
    {
     "name": "stderr",
     "output_type": "stream",
     "text": [
      "C:\\Users\\rm634391\\Anaconda3\\lib\\site-packages\\sklearn\\cluster\\_kmeans.py:1036: UserWarning: KMeans is known to have a memory leak on Windows with MKL, when there are less chunks than available threads. You can avoid it by setting the environment variable OMP_NUM_THREADS=1.\n",
      "  warnings.warn(\n",
      "C:\\Users\\rm634391\\Anaconda3\\lib\\site-packages\\sklearn\\cluster\\_kmeans.py:1036: UserWarning: KMeans is known to have a memory leak on Windows with MKL, when there are less chunks than available threads. You can avoid it by setting the environment variable OMP_NUM_THREADS=1.\n",
      "  warnings.warn(\n"
     ]
    }
   ],
   "source": [
    "# distortions:  the average of the squared distances from the cluster centers of the respective clusters. \n",
    "# Inertia: the sum of squared distances of samples to their closest cluster center.\n",
    "\n",
    "# objective: To find the optimal cluster K\n",
    "\n",
    "distortions = []\n",
    "inertias = []\n",
    "mapping1 = {}\n",
    "mapping2 = {}\n",
    "\n",
    "K = range(1, 10)\n",
    "\n",
    "for k in K:\n",
    "    # Building and fitting the model\n",
    "    kmeanModel = KMeans(n_clusters=k).fit(df)\n",
    "    kmeanModel.fit(df)\n",
    "\n",
    "    distortions.append(sum(np.min(cdist(df, kmeanModel.cluster_centers_, 'euclidean'), axis=1)) / df.shape[0])\n",
    "    inertias.append(kmeanModel.inertia_)\n",
    "\n",
    "    mapping1[k] = sum(np.min(cdist(df, kmeanModel.cluster_centers_, 'euclidean'), axis=1)) /df.shape[0]\n",
    "    mapping2[k] = kmeanModel.inertia_\n",
    "\n"
   ]
  },
  {
   "cell_type": "code",
   "execution_count": 301,
   "id": "ff3edd48",
   "metadata": {},
   "outputs": [
    {
     "data": {
      "image/png": "[encoded data removed]",
      "text/plain": [
       "<Figure size 432x288 with 1 Axes>"
      ]
     },
     "metadata": {
      "needs_background": "light"
     },
     "output_type": "display_data"
    }
   ],
   "source": [
    "# Plotting the distortions to find optimal k\n",
    "\n",
    "plt.plot(K, distortions, 'bx-')\n",
    "plt.xlabel('Values of K')\n",
    "plt.ylabel('Distortion')\n",
    "plt.title('The Elbow Method using Distortion')\n",
    "plt.show()"
   ]
  },
  {
   "cell_type": "markdown",
   "id": "35fcf2ed",
   "metadata": {},
   "source": [
    "Based on above the optimal K seems to be 6. We can use Silhouette value Method to find the value of ‘k’"
   ]
  },
  {
   "cell_type": "code",
   "execution_count": 302,
   "id": "2386427f",
   "metadata": {},
   "outputs": [
    {
     "data": {
      "image/png": "[encoded data removed]",
      "text/plain": [
       "<Figure size 432x288 with 2 Axes>"
      ]
     },
     "metadata": {
      "needs_background": "light"
     },
     "output_type": "display_data"
    }
   ],
   "source": [
    "# Below is for identifying optimal k based on silhouette\n",
    "\n",
    "clusters_range = range(2,15)\n",
    "results =[]\n",
    "for c in clusters_range:\n",
    "    clusterer = KMeans(init='k-means++', n_clusters=c,n_init=100, random_state=0)\n",
    "    cluster_lables = clusterer.fit_predict(df)\n",
    "    silhouette_avg = silhouette_score(df, cluster_lables)\n",
    "    results.append([c, silhouette_avg])\n",
    "\n",
    "result = pd.DataFrame(results, columns=[\"n_clusters\", \"silhouette_score\"])\n",
    "pivot_km = pd.pivot_table(result, index=\"n_clusters\", values=\"silhouette_score\")\n",
    "\n",
    "plt.figure()\n",
    "sn.heatmap(pivot_km, annot=True, linewidths=0.5, fmt='.3f', cmap=sn.cm.rocket_r)\n",
    "plt.tight_layout()"
   ]
  },
  {
   "cell_type": "markdown",
   "id": "ea59a7a2",
   "metadata": {},
   "source": [
    "Now that we know there are 6 clusters let us try to apply the algorithm with k=6 to our dataset"
   ]
  },
  {
   "cell_type": "code",
   "execution_count": 303,
   "id": "8687db7a",
   "metadata": {},
   "outputs": [
    {
     "data": {
      "text/html": [
       "<div>\n",
       "<style scoped>\n",
       "    .dataframe tbody tr th:only-of-type {\n",
       "        vertical-align: middle;\n",
       "    }\n",
       "\n",
       "    .dataframe tbody tr th {\n",
       "        vertical-align: top;\n",
       "    }\n",
       "\n",
       "    .dataframe thead th {\n",
       "        text-align: right;\n",
       "    }\n",
       "</style>\n",
       "<table border=\"1\" class=\"dataframe\">\n",
       "  <thead>\n",
       "    <tr style=\"text-align: right;\">\n",
       "      <th></th>\n",
       "      <th>Age</th>\n",
       "      <th>Annual Income (k$)</th>\n",
       "      <th>Spending Score (1-100)</th>\n",
       "    </tr>\n",
       "    <tr>\n",
       "      <th>Cluster</th>\n",
       "      <th></th>\n",
       "      <th></th>\n",
       "      <th></th>\n",
       "    </tr>\n",
       "  </thead>\n",
       "  <tbody>\n",
       "    <tr>\n",
       "      <th>0</th>\n",
       "      <td>27.0</td>\n",
       "      <td>56.7</td>\n",
       "      <td>49.1</td>\n",
       "    </tr>\n",
       "    <tr>\n",
       "      <th>1</th>\n",
       "      <td>41.7</td>\n",
       "      <td>88.2</td>\n",
       "      <td>17.3</td>\n",
       "    </tr>\n",
       "    <tr>\n",
       "      <th>2</th>\n",
       "      <td>32.7</td>\n",
       "      <td>86.5</td>\n",
       "      <td>82.1</td>\n",
       "    </tr>\n",
       "    <tr>\n",
       "      <th>3</th>\n",
       "      <td>56.2</td>\n",
       "      <td>53.4</td>\n",
       "      <td>49.1</td>\n",
       "    </tr>\n",
       "    <tr>\n",
       "      <th>4</th>\n",
       "      <td>44.1</td>\n",
       "      <td>25.1</td>\n",
       "      <td>19.5</td>\n",
       "    </tr>\n",
       "    <tr>\n",
       "      <th>5</th>\n",
       "      <td>25.3</td>\n",
       "      <td>25.7</td>\n",
       "      <td>79.4</td>\n",
       "    </tr>\n",
       "  </tbody>\n",
       "</table>\n",
       "</div>"
      ],
      "text/plain": [
       "          Age  Annual Income (k$)  Spending Score (1-100)\n",
       "Cluster                                                  \n",
       "0        27.0                56.7                    49.1\n",
       "1        41.7                88.2                    17.3\n",
       "2        32.7                86.5                    82.1\n",
       "3        56.2                53.4                    49.1\n",
       "4        44.1                25.1                    19.5\n",
       "5        25.3                25.7                    79.4"
      ]
     },
     "execution_count": 303,
     "metadata": {},
     "output_type": "execute_result"
    }
   ],
   "source": [
    "kmeans_selection = KMeans(init='k-means++', n_clusters=6,n_init=100, random_state=1).fit(df)\n",
    "labels = pd.DataFrame(kmeans_selection.labels_)\n",
    "clustered_data = df.assign(Cluster=labels)\n",
    "\n",
    "#scatters(clustered_data, h='Cluster')\n",
    "\n",
    "grouped_km = clustered_data.groupby(['Cluster']).mean().round(1)\n",
    "grouped_km\n"
   ]
  },
  {
   "cell_type": "markdown",
   "id": "8fd60603",
   "metadata": {},
   "source": [
    "###### Conclusion\n",
    "\n",
    "With above analysis, we are able to form six clusters:\n",
    "\n",
    "Cluster 1 & 4: Age group 40-50, despite of annual income, the spending score is less\n",
    "Cluster 0: Young age group with average annual income has an average spending score\n",
    "Cluster 5: Young age group with low annual income has a higher spending score\n",
    "Cluster 3: Elderly age group with average income has an average spending score\n",
    "Cluster 2: Middle age group with 75% of annual income has the highest spending score of all (most likely our target group).\n",
    "\n",
    "Hence our target would be Cluster 2 & Cluster 5\n"
   ]
  }
 ],
 "metadata": {
  "kernelspec": {
   "display_name": "Python 3",
   "language": "python",
   "name": "python3"
  },
  "language_info": {
   "codemirror_mode": {
    "name": "ipython",
    "version": 3
   },
   "file_extension": ".py",
   "mimetype": "text/x-python",
   "name": "python",
   "nbconvert_exporter": "python",
   "pygments_lexer": "ipython3",
   "version": "3.9.12"
  }
 },
 "nbformat": 4,
 "nbformat_minor": 5
}
