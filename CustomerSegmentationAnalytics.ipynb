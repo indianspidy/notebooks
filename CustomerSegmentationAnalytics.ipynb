{
 "cells": [
  {
   "cell_type": "markdown",
   "id": "be004fc3",
   "metadata": {},
   "source": [
    "#### Goal of this notebook is to perform EDA & clustering on the customer segmentation data to be able to learn the market basket analysis.\n",
    "\n",
    "To know more about customer segmentation, please check this out: https://www.qualtrics.com/experience-management/brand/customer-segmentation/#:~:text=Customer%20segmentation%20is%20the%20process,of%20building%20a%20marketing%20persona.\n",
    "\n",
    "The problem and dataset: https://www.kaggle.com/datasets/vjchoudhary7/customer-segmentation-tutorial-in-python"
   ]
  },
  {
   "cell_type": "code",
   "execution_count": 101,
   "id": "b6497ec0",
   "metadata": {},
   "outputs": [],
   "source": [
    "# -*- coding: utf-8 -*-\n",
    "\n",
    "import pandas as pd\n",
    "import seaborn as sn\n",
    "import matplotlib.pyplot as plt"
   ]
  },
  {
   "cell_type": "code",
   "execution_count": 102,
   "id": "f97a6a12",
   "metadata": {},
   "outputs": [],
   "source": [
    "# Creating data frame and ingesting the data from .csv file into the data frame\n",
    "df = pd.read_csv('C:/Users/rm634391/Analytics/Kaggle/CustomerSegmentation/Mall_Customers.csv')"
   ]
  },
  {
   "cell_type": "markdown",
   "id": "ca59fe68",
   "metadata": {},
   "source": [
    "###### Below steps are to understand the data"
   ]
  },
  {
   "cell_type": "code",
   "execution_count": 103,
   "id": "6e99c841",
   "metadata": {},
   "outputs": [
    {
     "data": {
      "text/html": [
       "<div>\n",
       "<style scoped>\n",
       "    .dataframe tbody tr th:only-of-type {\n",
       "        vertical-align: middle;\n",
       "    }\n",
       "\n",
       "    .dataframe tbody tr th {\n",
       "        vertical-align: top;\n",
       "    }\n",
       "\n",
       "    .dataframe thead th {\n",
       "        text-align: right;\n",
       "    }\n",
       "</style>\n",
       "<table border=\"1\" class=\"dataframe\">\n",
       "  <thead>\n",
       "    <tr style=\"text-align: right;\">\n",
       "      <th></th>\n",
       "      <th>CustomerID</th>\n",
       "      <th>Gender</th>\n",
       "      <th>Age</th>\n",
       "      <th>Annual Income (k$)</th>\n",
       "      <th>Spending Score (1-100)</th>\n",
       "    </tr>\n",
       "  </thead>\n",
       "  <tbody>\n",
       "    <tr>\n",
       "      <th>0</th>\n",
       "      <td>1</td>\n",
       "      <td>Male</td>\n",
       "      <td>19</td>\n",
       "      <td>15.0</td>\n",
       "      <td>39</td>\n",
       "    </tr>\n",
       "    <tr>\n",
       "      <th>1</th>\n",
       "      <td>2</td>\n",
       "      <td>Male</td>\n",
       "      <td>21</td>\n",
       "      <td>15.0</td>\n",
       "      <td>81</td>\n",
       "    </tr>\n",
       "    <tr>\n",
       "      <th>2</th>\n",
       "      <td>3</td>\n",
       "      <td>Female</td>\n",
       "      <td>20</td>\n",
       "      <td>16.0</td>\n",
       "      <td>6</td>\n",
       "    </tr>\n",
       "    <tr>\n",
       "      <th>3</th>\n",
       "      <td>4</td>\n",
       "      <td>Female</td>\n",
       "      <td>23</td>\n",
       "      <td>NaN</td>\n",
       "      <td>77</td>\n",
       "    </tr>\n",
       "    <tr>\n",
       "      <th>4</th>\n",
       "      <td>5</td>\n",
       "      <td>Female</td>\n",
       "      <td>31</td>\n",
       "      <td>17.0</td>\n",
       "      <td>40</td>\n",
       "    </tr>\n",
       "  </tbody>\n",
       "</table>\n",
       "</div>"
      ],
      "text/plain": [
       "   CustomerID  Gender  Age  Annual Income (k$)  Spending Score (1-100)\n",
       "0           1    Male   19                15.0                      39\n",
       "1           2    Male   21                15.0                      81\n",
       "2           3  Female   20                16.0                       6\n",
       "3           4  Female   23                 NaN                      77\n",
       "4           5  Female   31                17.0                      40"
      ]
     },
     "execution_count": 103,
     "metadata": {},
     "output_type": "execute_result"
    }
   ],
   "source": [
    "# Printing few rows of the data frame\n",
    "df.head()"
   ]
  },
  {
   "cell_type": "code",
   "execution_count": 104,
   "id": "93b30965",
   "metadata": {},
   "outputs": [
    {
     "data": {
      "text/plain": [
       "(200, 5)"
      ]
     },
     "execution_count": 104,
     "metadata": {},
     "output_type": "execute_result"
    }
   ],
   "source": [
    "# Printing the number of rows & number of columns in data frame\n",
    "df.shape"
   ]
  },
  {
   "cell_type": "code",
   "execution_count": 105,
   "id": "cb49dea7",
   "metadata": {},
   "outputs": [
    {
     "data": {
      "text/plain": [
       "CustomerID                  int64\n",
       "Gender                     object\n",
       "Age                         int64\n",
       "Annual Income (k$)        float64\n",
       "Spending Score (1-100)      int64\n",
       "dtype: object"
      ]
     },
     "execution_count": 105,
     "metadata": {},
     "output_type": "execute_result"
    }
   ],
   "source": [
    "# Printing data types of each column\n",
    "datatypes = df.dtypes\n",
    "datatypes"
   ]
  },
  {
   "cell_type": "code",
   "execution_count": 106,
   "id": "1e8f8c44",
   "metadata": {},
   "outputs": [
    {
     "name": "stdout",
     "output_type": "stream",
     "text": [
      "<class 'pandas.core.frame.DataFrame'>\n",
      "RangeIndex: 200 entries, 0 to 199\n",
      "Data columns (total 5 columns):\n",
      " #   Column                  Non-Null Count  Dtype  \n",
      "---  ------                  --------------  -----  \n",
      " 0   CustomerID              200 non-null    int64  \n",
      " 1   Gender                  200 non-null    object \n",
      " 2   Age                     200 non-null    int64  \n",
      " 3   Annual Income (k$)      199 non-null    float64\n",
      " 4   Spending Score (1-100)  200 non-null    int64  \n",
      "dtypes: float64(1), int64(3), object(1)\n",
      "memory usage: 7.9+ KB\n"
     ]
    }
   ],
   "source": [
    "# Printing the information about the data frame \n",
    "df.info()"
   ]
  },
  {
   "cell_type": "code",
   "execution_count": 107,
   "id": "230054ab",
   "metadata": {},
   "outputs": [
    {
     "data": {
      "text/plain": [
       "CustomerID                0\n",
       "Gender                    0\n",
       "Age                       0\n",
       "Annual Income (k$)        1\n",
       "Spending Score (1-100)    0\n",
       "dtype: int64"
      ]
     },
     "execution_count": 107,
     "metadata": {},
     "output_type": "execute_result"
    }
   ],
   "source": [
    "# Counting total null values in the data frame\n",
    "df.isnull().sum()"
   ]
  },
  {
   "cell_type": "code",
   "execution_count": 108,
   "id": "f4ade84d",
   "metadata": {},
   "outputs": [
    {
     "name": "stdout",
     "output_type": "stream",
     "text": [
      " Total NaN in row 1 : 0\n",
      " Total NaN in row 2 : 0\n",
      " Total NaN in row 3 : 0\n",
      " Total NaN in row 4 : 1\n",
      " Total NaN in row 5 : 0\n",
      " Total NaN in row 6 : 0\n",
      " Total NaN in row 7 : 0\n",
      " Total NaN in row 8 : 0\n",
      " Total NaN in row 9 : 0\n",
      " Total NaN in row 10 : 0\n",
      " Total NaN in row 11 : 0\n",
      " Total NaN in row 12 : 0\n",
      " Total NaN in row 13 : 0\n",
      " Total NaN in row 14 : 0\n",
      " Total NaN in row 15 : 0\n",
      " Total NaN in row 16 : 0\n",
      " Total NaN in row 17 : 0\n",
      " Total NaN in row 18 : 0\n",
      " Total NaN in row 19 : 0\n",
      " Total NaN in row 20 : 0\n",
      " Total NaN in row 21 : 0\n",
      " Total NaN in row 22 : 0\n",
      " Total NaN in row 23 : 0\n",
      " Total NaN in row 24 : 0\n",
      " Total NaN in row 25 : 0\n",
      " Total NaN in row 26 : 0\n",
      " Total NaN in row 27 : 0\n",
      " Total NaN in row 28 : 0\n",
      " Total NaN in row 29 : 0\n",
      " Total NaN in row 30 : 0\n",
      " Total NaN in row 31 : 0\n",
      " Total NaN in row 32 : 0\n",
      " Total NaN in row 33 : 0\n",
      " Total NaN in row 34 : 0\n",
      " Total NaN in row 35 : 0\n",
      " Total NaN in row 36 : 0\n",
      " Total NaN in row 37 : 0\n",
      " Total NaN in row 38 : 0\n",
      " Total NaN in row 39 : 0\n",
      " Total NaN in row 40 : 0\n",
      " Total NaN in row 41 : 0\n",
      " Total NaN in row 42 : 0\n",
      " Total NaN in row 43 : 0\n",
      " Total NaN in row 44 : 0\n",
      " Total NaN in row 45 : 0\n",
      " Total NaN in row 46 : 0\n",
      " Total NaN in row 47 : 0\n",
      " Total NaN in row 48 : 0\n",
      " Total NaN in row 49 : 0\n",
      " Total NaN in row 50 : 0\n",
      " Total NaN in row 51 : 0\n",
      " Total NaN in row 52 : 0\n",
      " Total NaN in row 53 : 0\n",
      " Total NaN in row 54 : 0\n",
      " Total NaN in row 55 : 0\n",
      " Total NaN in row 56 : 0\n",
      " Total NaN in row 57 : 0\n",
      " Total NaN in row 58 : 0\n",
      " Total NaN in row 59 : 0\n",
      " Total NaN in row 60 : 0\n",
      " Total NaN in row 61 : 0\n",
      " Total NaN in row 62 : 0\n",
      " Total NaN in row 63 : 0\n",
      " Total NaN in row 64 : 0\n",
      " Total NaN in row 65 : 0\n",
      " Total NaN in row 66 : 0\n",
      " Total NaN in row 67 : 0\n",
      " Total NaN in row 68 : 0\n",
      " Total NaN in row 69 : 0\n",
      " Total NaN in row 70 : 0\n",
      " Total NaN in row 71 : 0\n",
      " Total NaN in row 72 : 0\n",
      " Total NaN in row 73 : 0\n",
      " Total NaN in row 74 : 0\n",
      " Total NaN in row 75 : 0\n",
      " Total NaN in row 76 : 0\n",
      " Total NaN in row 77 : 0\n",
      " Total NaN in row 78 : 0\n",
      " Total NaN in row 79 : 0\n",
      " Total NaN in row 80 : 0\n",
      " Total NaN in row 81 : 0\n",
      " Total NaN in row 82 : 0\n",
      " Total NaN in row 83 : 0\n",
      " Total NaN in row 84 : 0\n",
      " Total NaN in row 85 : 0\n",
      " Total NaN in row 86 : 0\n",
      " Total NaN in row 87 : 0\n",
      " Total NaN in row 88 : 0\n",
      " Total NaN in row 89 : 0\n",
      " Total NaN in row 90 : 0\n",
      " Total NaN in row 91 : 0\n",
      " Total NaN in row 92 : 0\n",
      " Total NaN in row 93 : 0\n",
      " Total NaN in row 94 : 0\n",
      " Total NaN in row 95 : 0\n",
      " Total NaN in row 96 : 0\n",
      " Total NaN in row 97 : 0\n",
      " Total NaN in row 98 : 0\n",
      " Total NaN in row 99 : 0\n",
      " Total NaN in row 100 : 0\n",
      " Total NaN in row 101 : 0\n",
      " Total NaN in row 102 : 0\n",
      " Total NaN in row 103 : 0\n",
      " Total NaN in row 104 : 0\n",
      " Total NaN in row 105 : 0\n",
      " Total NaN in row 106 : 0\n",
      " Total NaN in row 107 : 0\n",
      " Total NaN in row 108 : 0\n",
      " Total NaN in row 109 : 0\n",
      " Total NaN in row 110 : 0\n",
      " Total NaN in row 111 : 0\n",
      " Total NaN in row 112 : 0\n",
      " Total NaN in row 113 : 0\n",
      " Total NaN in row 114 : 0\n",
      " Total NaN in row 115 : 0\n",
      " Total NaN in row 116 : 0\n",
      " Total NaN in row 117 : 0\n",
      " Total NaN in row 118 : 0\n",
      " Total NaN in row 119 : 0\n",
      " Total NaN in row 120 : 0\n",
      " Total NaN in row 121 : 0\n",
      " Total NaN in row 122 : 0\n",
      " Total NaN in row 123 : 0\n",
      " Total NaN in row 124 : 0\n",
      " Total NaN in row 125 : 0\n",
      " Total NaN in row 126 : 0\n",
      " Total NaN in row 127 : 0\n",
      " Total NaN in row 128 : 0\n",
      " Total NaN in row 129 : 0\n",
      " Total NaN in row 130 : 0\n",
      " Total NaN in row 131 : 0\n",
      " Total NaN in row 132 : 0\n",
      " Total NaN in row 133 : 0\n",
      " Total NaN in row 134 : 0\n",
      " Total NaN in row 135 : 0\n",
      " Total NaN in row 136 : 0\n",
      " Total NaN in row 137 : 0\n",
      " Total NaN in row 138 : 0\n",
      " Total NaN in row 139 : 0\n",
      " Total NaN in row 140 : 0\n",
      " Total NaN in row 141 : 0\n",
      " Total NaN in row 142 : 0\n",
      " Total NaN in row 143 : 0\n",
      " Total NaN in row 144 : 0\n",
      " Total NaN in row 145 : 0\n",
      " Total NaN in row 146 : 0\n",
      " Total NaN in row 147 : 0\n",
      " Total NaN in row 148 : 0\n",
      " Total NaN in row 149 : 0\n",
      " Total NaN in row 150 : 0\n",
      " Total NaN in row 151 : 0\n",
      " Total NaN in row 152 : 0\n",
      " Total NaN in row 153 : 0\n",
      " Total NaN in row 154 : 0\n",
      " Total NaN in row 155 : 0\n",
      " Total NaN in row 156 : 0\n",
      " Total NaN in row 157 : 0\n",
      " Total NaN in row 158 : 0\n",
      " Total NaN in row 159 : 0\n",
      " Total NaN in row 160 : 0\n",
      " Total NaN in row 161 : 0\n",
      " Total NaN in row 162 : 0\n",
      " Total NaN in row 163 : 0\n",
      " Total NaN in row 164 : 0\n",
      " Total NaN in row 165 : 0\n",
      " Total NaN in row 166 : 0\n",
      " Total NaN in row 167 : 0\n",
      " Total NaN in row 168 : 0\n",
      " Total NaN in row 169 : 0\n",
      " Total NaN in row 170 : 0\n",
      " Total NaN in row 171 : 0\n",
      " Total NaN in row 172 : 0\n",
      " Total NaN in row 173 : 0\n",
      " Total NaN in row 174 : 0\n",
      " Total NaN in row 175 : 0\n",
      " Total NaN in row 176 : 0\n",
      " Total NaN in row 177 : 0\n",
      " Total NaN in row 178 : 0\n",
      " Total NaN in row 179 : 0\n",
      " Total NaN in row 180 : 0\n",
      " Total NaN in row 181 : 0\n",
      " Total NaN in row 182 : 0\n",
      " Total NaN in row 183 : 0\n",
      " Total NaN in row 184 : 0\n",
      " Total NaN in row 185 : 0\n",
      " Total NaN in row 186 : 0\n",
      " Total NaN in row 187 : 0\n",
      " Total NaN in row 188 : 0\n",
      " Total NaN in row 189 : 0\n",
      " Total NaN in row 190 : 0\n",
      " Total NaN in row 191 : 0\n",
      " Total NaN in row 192 : 0\n",
      " Total NaN in row 193 : 0\n",
      " Total NaN in row 194 : 0\n",
      " Total NaN in row 195 : 0\n",
      " Total NaN in row 196 : 0\n",
      " Total NaN in row 197 : 0\n",
      " Total NaN in row 198 : 0\n",
      " Total NaN in row 199 : 0\n",
      " Total NaN in row 200 : 0\n"
     ]
    }
   ],
   "source": [
    "# Counting null values in the data frame by rows\n",
    "for i in range(len(df.index)) :\n",
    "    print(\" Total NaN in row\", i + 1, \":\",\n",
    "          df.iloc[i].isnull().sum())"
   ]
  },
  {
   "cell_type": "code",
   "execution_count": 109,
   "id": "8ad09aae",
   "metadata": {},
   "outputs": [
    {
     "data": {
      "text/html": [
       "<div>\n",
       "<style scoped>\n",
       "    .dataframe tbody tr th:only-of-type {\n",
       "        vertical-align: middle;\n",
       "    }\n",
       "\n",
       "    .dataframe tbody tr th {\n",
       "        vertical-align: top;\n",
       "    }\n",
       "\n",
       "    .dataframe thead th {\n",
       "        text-align: right;\n",
       "    }\n",
       "</style>\n",
       "<table border=\"1\" class=\"dataframe\">\n",
       "  <thead>\n",
       "    <tr style=\"text-align: right;\">\n",
       "      <th></th>\n",
       "      <th>CustomerID</th>\n",
       "      <th>Age</th>\n",
       "      <th>Annual Income (k$)</th>\n",
       "      <th>Spending Score (1-100)</th>\n",
       "    </tr>\n",
       "  </thead>\n",
       "  <tbody>\n",
       "    <tr>\n",
       "      <th>count</th>\n",
       "      <td>200.000000</td>\n",
       "      <td>200.000000</td>\n",
       "      <td>199.000000</td>\n",
       "      <td>200.000000</td>\n",
       "    </tr>\n",
       "    <tr>\n",
       "      <th>mean</th>\n",
       "      <td>100.500000</td>\n",
       "      <td>38.850000</td>\n",
       "      <td>60.783920</td>\n",
       "      <td>50.200000</td>\n",
       "    </tr>\n",
       "    <tr>\n",
       "      <th>std</th>\n",
       "      <td>57.879185</td>\n",
       "      <td>13.969007</td>\n",
       "      <td>26.138878</td>\n",
       "      <td>25.823522</td>\n",
       "    </tr>\n",
       "    <tr>\n",
       "      <th>min</th>\n",
       "      <td>1.000000</td>\n",
       "      <td>18.000000</td>\n",
       "      <td>15.000000</td>\n",
       "      <td>1.000000</td>\n",
       "    </tr>\n",
       "    <tr>\n",
       "      <th>25%</th>\n",
       "      <td>50.750000</td>\n",
       "      <td>28.750000</td>\n",
       "      <td>42.000000</td>\n",
       "      <td>34.750000</td>\n",
       "    </tr>\n",
       "    <tr>\n",
       "      <th>50%</th>\n",
       "      <td>100.500000</td>\n",
       "      <td>36.000000</td>\n",
       "      <td>62.000000</td>\n",
       "      <td>50.000000</td>\n",
       "    </tr>\n",
       "    <tr>\n",
       "      <th>75%</th>\n",
       "      <td>150.250000</td>\n",
       "      <td>49.000000</td>\n",
       "      <td>78.000000</td>\n",
       "      <td>73.000000</td>\n",
       "    </tr>\n",
       "    <tr>\n",
       "      <th>max</th>\n",
       "      <td>200.000000</td>\n",
       "      <td>70.000000</td>\n",
       "      <td>137.000000</td>\n",
       "      <td>99.000000</td>\n",
       "    </tr>\n",
       "  </tbody>\n",
       "</table>\n",
       "</div>"
      ],
      "text/plain": [
       "       CustomerID         Age  Annual Income (k$)  Spending Score (1-100)\n",
       "count  200.000000  200.000000          199.000000              200.000000\n",
       "mean   100.500000   38.850000           60.783920               50.200000\n",
       "std     57.879185   13.969007           26.138878               25.823522\n",
       "min      1.000000   18.000000           15.000000                1.000000\n",
       "25%     50.750000   28.750000           42.000000               34.750000\n",
       "50%    100.500000   36.000000           62.000000               50.000000\n",
       "75%    150.250000   49.000000           78.000000               73.000000\n",
       "max    200.000000   70.000000          137.000000               99.000000"
      ]
     },
     "execution_count": 109,
     "metadata": {},
     "output_type": "execute_result"
    }
   ],
   "source": [
    "# Simple statistics of the data frame\n",
    "df.describe()"
   ]
  },
  {
   "cell_type": "markdown",
   "id": "4792b2c7",
   "metadata": {},
   "source": [
    "###### Below steps are to convert data types"
   ]
  },
  {
   "cell_type": "code",
   "execution_count": 110,
   "id": "714aab7b",
   "metadata": {},
   "outputs": [
    {
     "data": {
      "text/plain": [
       "CustomerID                 object\n",
       "Gender                     object\n",
       "Age                         int64\n",
       "Annual Income (k$)        float64\n",
       "Spending Score (1-100)      int64\n",
       "dtype: object"
      ]
     },
     "execution_count": 110,
     "metadata": {},
     "output_type": "execute_result"
    }
   ],
   "source": [
    "# Data type conversion (CustomerID is stored as integer, we can convert it into string)\n",
    "df['Gender'] = df['Gender'].astype('str')\n",
    "df['CustomerID'] = df['CustomerID'].astype('str')\n",
    "dtype = df.dtypes\n",
    "dtype"
   ]
  },
  {
   "cell_type": "code",
   "execution_count": 111,
   "id": "19facc1a",
   "metadata": {},
   "outputs": [
    {
     "name": "stdout",
     "output_type": "stream",
     "text": [
      "<class 'pandas.core.frame.DataFrame'>\n",
      "RangeIndex: 200 entries, 0 to 199\n",
      "Data columns (total 5 columns):\n",
      " #   Column                  Non-Null Count  Dtype  \n",
      "---  ------                  --------------  -----  \n",
      " 0   CustomerID              200 non-null    object \n",
      " 1   Gender                  200 non-null    object \n",
      " 2   Age                     200 non-null    int64  \n",
      " 3   Annual Income (k$)      199 non-null    float64\n",
      " 4   Spending Score (1-100)  200 non-null    int64  \n",
      "dtypes: float64(1), int64(2), object(2)\n",
      "memory usage: 7.9+ KB\n"
     ]
    }
   ],
   "source": [
    "df.info()"
   ]
  },
  {
   "cell_type": "markdown",
   "id": "6d8f9c40",
   "metadata": {},
   "source": [
    "##### Now onto some visualization"
   ]
  },
  {
   "cell_type": "code",
   "execution_count": 112,
   "id": "af5445d3",
   "metadata": {},
   "outputs": [
    {
     "data": {
      "text/plain": [
       "<seaborn.axisgrid.FacetGrid at 0x24133a1fd00>"
      ]
     },
     "execution_count": 112,
     "metadata": {},
     "output_type": "execute_result"
    },
    {
     "data": {
      "image/png": "[encoded data removed]",
      "text/plain": [
       "<Figure size 360x360 with 1 Axes>"
      ]
     },
     "metadata": {
      "needs_background": "light"
     },
     "output_type": "display_data"
    },
    {
     "data": {
      "image/png": "[encoded data removed]",
      "text/plain": [
       "<Figure size 360x360 with 1 Axes>"
      ]
     },
     "metadata": {
      "needs_background": "light"
     },
     "output_type": "display_data"
    },
    {
     "data": {
      "image/png": "[encoded data removed]",
      "text/plain": [
       "<Figure size 360x360 with 1 Axes>"
      ]
     },
     "metadata": {
      "needs_background": "light"
     },
     "output_type": "display_data"
    },
    {
     "data": {
      "image/png": "[encoded data removed]",
      "text/plain": [
       "<Figure size 360x360 with 1 Axes>"
      ]
     },
     "metadata": {
      "needs_background": "light"
     },
     "output_type": "display_data"
    }
   ],
   "source": [
    "# Let us understand the distribution of each attributes (age, annual income & spending score)\n",
    "\n",
    "# Distribution of age\n",
    "sn.displot(data=df, x=\"Age\", kind=\"hist\", aspect=1)\n",
    "\n",
    "# Distribution of Annual Income\n",
    "sn.displot(data=df, x=\"Annual Income (k$)\", kind=\"hist\", aspect=1)\n",
    "\n",
    "\n",
    "# Distribution of Spending Score\n",
    "sn.displot(data=df, x=\"Spending Score (1-100)\", kind=\"hist\", aspect=1)\n",
    "\n",
    "# Distribution of Gender\n",
    "sn.displot(data=df, x=\"Gender\", kind=\"hist\", aspect=1)"
   ]
  },
  {
   "cell_type": "code",
   "execution_count": 113,
   "id": "7c42dd8f",
   "metadata": {},
   "outputs": [
    {
     "data": {
      "text/plain": [
       "<seaborn.axisgrid.FacetGrid at 0x24130fa0a30>"
      ]
     },
     "execution_count": 113,
     "metadata": {},
     "output_type": "execute_result"
    },
    {
     "data": {
      "image/png": "[encoded data removed]",
      "text/plain": [
       "<Figure size 720x360 with 2 Axes>"
      ]
     },
     "metadata": {
      "needs_background": "light"
     },
     "output_type": "display_data"
    }
   ],
   "source": [
    "# Let us understand the distribution of each attributes (age) with another dimension Gender\n",
    "\n",
    "# Distribution of age with column\n",
    "sn.displot(data=df, x=\"Age\", col=\"Gender\", kind=\"hist\", aspect=1)"
   ]
  }
 ],
 "metadata": {
  "kernelspec": {
   "display_name": "Python 3",
   "language": "python",
   "name": "python3"
  },
  "language_info": {
   "codemirror_mode": {
    "name": "ipython",
    "version": 3
   },
   "file_extension": ".py",
   "mimetype": "text/x-python",
   "name": "python",
   "nbconvert_exporter": "python",
   "pygments_lexer": "ipython3",
   "version": "3.9.12"
  }
 },
 "nbformat": 4,
 "nbformat_minor": 5
}
