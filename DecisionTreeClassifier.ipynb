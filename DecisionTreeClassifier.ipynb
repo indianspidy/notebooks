{
 "cells": [
  {
   "attachments": {},
   "cell_type": "markdown",
   "id": "ef644a92",
   "metadata": {},
   "source": [
    "### Decision Tree Classifier\n",
    "\n",
    "In this notebook we will learn about decision tree classifier\n",
    "\n",
    "\n",
    "\"Decision tree learning is a supervised learning approach used in statistics, data mining and machine learning. In this formalism, a classification or regression decision tree is used as a predictive model to draw conclusions about a set of observations.\n",
    "\n",
    "Tree models where the target variable can take a discrete set of values are called classification trees; in these tree structures, leaves represent class labels and branches represent conjunctions of features that lead to those class labels. Decision trees where the target variable can take continuous values (typically real numbers) are called regression trees.\n",
    "\n",
    "Decision trees are among the most popular machine learning algorithms given their intelligibility and simplicity.\n",
    "\n",
    "In decision analysis, a decision tree can be used to visually and explicitly represent decisions and decision making. In data mining, a decision tree describes data (but the resulting classification tree can be an input for decision making).\" - Wikipedia\n",
    "\n",
    "References:\n",
    "\n",
    "wikipedia (https://www.wikipedia.org/)\n",
    "w3schools (https://www.w3schools.com/)\n",
    "\n",
    "The objective is to plot decision tree for the below data\n",
    "\n",
    "<PRE>\n",
    "Age\tExperience\tRank\tNationality\tGo\n",
    "36\t10\t9\tUK\tNO\n",
    "42\t12\t4\tUSA\tNO\n",
    "23\t4\t6\tN\tNO\n",
    "52\t4\t4\tUSA\tNO\n",
    "43\t21\t8\tUSA\tYES\n",
    "44\t14\t5\tUK\tNO\n",
    "66\t3\t7\tN\tYES\n",
    "35\t14\t9\tUK\tYES\n",
    "52\t13\t7\tN\tYES\n",
    "35\t5\t9\tN\tYES\n",
    "24\t3\t5\tUSA\tNO\n",
    "18\t3\t7\tUK\tYES\n",
    "45\t9\t9\tUK\tYES\n",
    "\n",
    "</PRE>\n",
    "\n"
   ]
  },
  {
   "cell_type": "code",
   "execution_count": 1,
   "id": "94ebfc06",
   "metadata": {},
   "outputs": [],
   "source": [
    "# Importing required libraries\n",
    "\n",
    "import pandas # for data frames\n",
    "from sklearn import tree # for tree\n",
    "from sklearn.tree import DecisionTreeClassifier # decision tree classifier\n",
    "import matplotlib.pyplot as plt # for the plot"
   ]
  },
  {
   "cell_type": "code",
   "execution_count": 2,
   "id": "d4b29822",
   "metadata": {},
   "outputs": [],
   "source": [
    "# Read the data\n",
    "df = pandas.read_csv(\"C:/Users/rm634391/Desktop/Kaggle/DecisionTree/Data.csv\")"
   ]
  },
  {
   "cell_type": "code",
   "execution_count": 4,
   "id": "b58dab06",
   "metadata": {},
   "outputs": [
    {
     "data": {
      "text/plain": [
       "(13, 5)"
      ]
     },
     "execution_count": 4,
     "metadata": {},
     "output_type": "execute_result"
    }
   ],
   "source": [
    "# print the shape\n",
    "df.shape"
   ]
  },
  {
   "cell_type": "code",
   "execution_count": 6,
   "id": "f4621a2a",
   "metadata": {},
   "outputs": [
    {
     "data": {
      "text/html": [
       "<div>\n",
       "<style scoped>\n",
       "    .dataframe tbody tr th:only-of-type {\n",
       "        vertical-align: middle;\n",
       "    }\n",
       "\n",
       "    .dataframe tbody tr th {\n",
       "        vertical-align: top;\n",
       "    }\n",
       "\n",
       "    .dataframe thead th {\n",
       "        text-align: right;\n",
       "    }\n",
       "</style>\n",
       "<table border=\"1\" class=\"dataframe\">\n",
       "  <thead>\n",
       "    <tr style=\"text-align: right;\">\n",
       "      <th></th>\n",
       "      <th>Age</th>\n",
       "      <th>Experience</th>\n",
       "      <th>Rank</th>\n",
       "      <th>Nationality</th>\n",
       "      <th>Go</th>\n",
       "    </tr>\n",
       "  </thead>\n",
       "  <tbody>\n",
       "    <tr>\n",
       "      <th>0</th>\n",
       "      <td>36</td>\n",
       "      <td>10</td>\n",
       "      <td>9</td>\n",
       "      <td>UK</td>\n",
       "      <td>NO</td>\n",
       "    </tr>\n",
       "    <tr>\n",
       "      <th>1</th>\n",
       "      <td>42</td>\n",
       "      <td>12</td>\n",
       "      <td>4</td>\n",
       "      <td>USA</td>\n",
       "      <td>NO</td>\n",
       "    </tr>\n",
       "    <tr>\n",
       "      <th>2</th>\n",
       "      <td>23</td>\n",
       "      <td>4</td>\n",
       "      <td>6</td>\n",
       "      <td>N</td>\n",
       "      <td>NO</td>\n",
       "    </tr>\n",
       "    <tr>\n",
       "      <th>3</th>\n",
       "      <td>52</td>\n",
       "      <td>4</td>\n",
       "      <td>4</td>\n",
       "      <td>USA</td>\n",
       "      <td>NO</td>\n",
       "    </tr>\n",
       "    <tr>\n",
       "      <th>4</th>\n",
       "      <td>43</td>\n",
       "      <td>21</td>\n",
       "      <td>8</td>\n",
       "      <td>USA</td>\n",
       "      <td>YES</td>\n",
       "    </tr>\n",
       "  </tbody>\n",
       "</table>\n",
       "</div>"
      ],
      "text/plain": [
       "   Age  Experience  Rank Nationality   Go\n",
       "0   36          10     9          UK   NO\n",
       "1   42          12     4         USA   NO\n",
       "2   23           4     6           N   NO\n",
       "3   52           4     4         USA   NO\n",
       "4   43          21     8         USA  YES"
      ]
     },
     "execution_count": 6,
     "metadata": {},
     "output_type": "execute_result"
    }
   ],
   "source": [
    "# print the first few rows\n",
    "df.head()"
   ]
  },
  {
   "cell_type": "code",
   "execution_count": 7,
   "id": "699137e0",
   "metadata": {},
   "outputs": [],
   "source": [
    "# Mapping the class variables with values, Nationality \n",
    "d = {'UK': 0, 'USA': 1, 'N': 2}\n",
    "df['Nationality'] = df['Nationality'].map(d)\n",
    "\n",
    "# Mapping the class variables with values, Go \n",
    "d = {'YES': 1, 'NO': 0}\n",
    "df['Go'] = df['Go'].map(d)"
   ]
  },
  {
   "cell_type": "code",
   "execution_count": 8,
   "id": "d5096cdc",
   "metadata": {},
   "outputs": [],
   "source": [
    "# Choosing the features to fit the tree. The tree varies based on the choice of features\n",
    "\n",
    "features = ['Age', 'Experience', 'Rank', 'Nationality']"
   ]
  },
  {
   "cell_type": "code",
   "execution_count": 9,
   "id": "ba422f4d",
   "metadata": {},
   "outputs": [],
   "source": [
    "# Creating the x (independent) & y (dependent)\n",
    "\n",
    "x = df[features]\n",
    "y = df['Go']"
   ]
  },
  {
   "cell_type": "code",
   "execution_count": 17,
   "id": "04a1e50e",
   "metadata": {},
   "outputs": [],
   "source": [
    "# Creating decision tree classifier (Criterion can be gini or entropy)\n",
    "dtree = DecisionTreeClassifier(criterion = \"gini\")\n",
    "dtree = dtree.fit(x, y)"
   ]
  },
  {
   "cell_type": "code",
   "execution_count": 18,
   "id": "ec9ff9e3",
   "metadata": {},
   "outputs": [
    {
     "data": {
      "text/plain": [
       "[Text(0.3333333333333333, 0.875, 'Rank <= 6.5\\ngini = 0.497\\nsamples = 13\\nvalue = [6, 7]'),\n",
       " Text(0.16666666666666666, 0.625, 'gini = 0.0\\nsamples = 5\\nvalue = [5, 0]'),\n",
       " Text(0.5, 0.625, 'Experience <= 9.5\\ngini = 0.219\\nsamples = 8\\nvalue = [1, 7]'),\n",
       " Text(0.3333333333333333, 0.375, 'gini = 0.0\\nsamples = 4\\nvalue = [0, 4]'),\n",
       " Text(0.6666666666666666, 0.375, 'Experience <= 11.5\\ngini = 0.375\\nsamples = 4\\nvalue = [1, 3]'),\n",
       " Text(0.5, 0.125, 'gini = 0.0\\nsamples = 1\\nvalue = [1, 0]'),\n",
       " Text(0.8333333333333334, 0.125, 'gini = 0.0\\nsamples = 3\\nvalue = [0, 3]')]"
      ]
     },
     "execution_count": 18,
     "metadata": {},
     "output_type": "execute_result"
    },
    {
     "data": {
      "image/png": "[encoded data removed]",
      "text/plain": [
       "<Figure size 640x480 with 1 Axes>"
      ]
     },
     "metadata": {},
     "output_type": "display_data"
    }
   ],
   "source": [
    "# plotting the tree\n",
    "tree.plot_tree(dtree, feature_names=features)"
   ]
  },
  {
   "cell_type": "code",
   "execution_count": null,
   "id": "dcb76578",
   "metadata": {},
   "outputs": [],
   "source": []
  }
 ],
 "metadata": {
  "kernelspec": {
   "display_name": "Python 3 (ipykernel)",
   "language": "python",
   "name": "python3"
  },
  "language_info": {
   "codemirror_mode": {
    "name": "ipython",
    "version": 3
   },
   "file_extension": ".py",
   "mimetype": "text/x-python",
   "name": "python",
   "nbconvert_exporter": "python",
   "pygments_lexer": "ipython3",
   "version": "3.9.13"
  }
 },
 "nbformat": 4,
 "nbformat_minor": 5
}
