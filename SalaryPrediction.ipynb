{
 "cells": [
  {
   "cell_type": "markdown",
   "id": "be004fc3",
   "metadata": {},
   "source": [
    "# Introduction\n",
    "\n",
    "<B>Objective of this notebook is to predict the salary based on years of experience.</B>\n",
    "\n",
    "<B><I>Goal: To predict the salary for given years of experience based on the dataset provided</B></I>\n",
    "\n",
    "In statistics, linear regression is a linear approach for modelling the relationship between a scalar response and one or more explanatory variables (also known as dependent and independent variables). The case of one explanatory variable is called simple linear regression; for more than one, the process is called multiple linear regression. This term is distinct from multivariate linear regression, where multiple correlated dependent variables are predicted, rather than a single scalar variable. - Wikipedia\n",
    "\n",
    "In linear regression, the relationships are modeled using linear predictor functions whose unknown model parameters are estimated from the data.\n",
    "\n",
    "In this notebook, we will follow below steps to come up with predictor function for salary based on the provided data set.\n",
    "-\tDescriptive Analytics (Study of given data)\n",
    "-\tData Visualization\n",
    "-\tDiagnostic Analytics (Study of relationships among given dataset)\n",
    "-\tPrediction\n",
    "-\tValidation\n",
    "\n",
    "\n",
    "<I>References:\n",
    "- wikipedia (https://www.wikipedia.org/)\n",
    "- Analytics Vidhya (https://www.analyticsvidhya.com/)\n",
    "- Real Python (https://realpython.com/)\n",
    "- GeeksforGeeks (https://www.geeksforgeeks.org/python-programming-language/)\n",
    "</I>\n"
   ]
  },
  {
   "cell_type": "code",
   "execution_count": 270,
   "id": "b6497ec0",
   "metadata": {},
   "outputs": [],
   "source": [
    "# importing required libraries\n",
    "\n",
    "import pandas as pd # for data frames\n",
    "import numpy as np # for array reshaping\n",
    "import seaborn as sn # for plots\n",
    "import matplotlib.pyplot as plt # for plots\n",
    "from sklearn.model_selection import train_test_split # to do test & train data split\n",
    "from sklearn.linear_model import LinearRegression # for linear regression\n",
    "from sklearn import metrics # for the error metrics\n",
    "from sklearn.metrics import r2_score # for calculation the r squared value\n",
    "import statsmodels.api as sm # Linear regression with statsmodels"
   ]
  },
  {
   "cell_type": "code",
   "execution_count": 271,
   "id": "f97a6a12",
   "metadata": {},
   "outputs": [],
   "source": [
    "# Creating data frame and ingesting the data from .csv file into the data frame\n",
    "df = pd.read_csv('C:/Users/rm634391/Analytics/Kaggle/Salary/Salary_Data.csv')"
   ]
  },
  {
   "cell_type": "markdown",
   "id": "ca59fe68",
   "metadata": {},
   "source": [
    "## Descriptive Analytics (Study of given data)"
   ]
  },
  {
   "cell_type": "code",
   "execution_count": 272,
   "id": "93b30965",
   "metadata": {},
   "outputs": [
    {
     "data": {
      "text/plain": [
       "(30, 2)"
      ]
     },
     "execution_count": 272,
     "metadata": {},
     "output_type": "execute_result"
    }
   ],
   "source": [
    "# Printing the number of rows & number of columns in data frame\n",
    "df.shape"
   ]
  },
  {
   "cell_type": "code",
   "execution_count": 273,
   "id": "cb49dea7",
   "metadata": {},
   "outputs": [
    {
     "data": {
      "text/plain": [
       "YearsExperience    float64\n",
       "Salary             float64\n",
       "dtype: object"
      ]
     },
     "execution_count": 273,
     "metadata": {},
     "output_type": "execute_result"
    }
   ],
   "source": [
    "# Printing data types of each column\n",
    "datatypes = df.dtypes\n",
    "datatypes"
   ]
  },
  {
   "cell_type": "code",
   "execution_count": 274,
   "id": "230054ab",
   "metadata": {},
   "outputs": [
    {
     "data": {
      "text/plain": [
       "YearsExperience    0\n",
       "Salary             0\n",
       "dtype: int64"
      ]
     },
     "execution_count": 274,
     "metadata": {},
     "output_type": "execute_result"
    }
   ],
   "source": [
    "# Counting total null values in the data frame\n",
    "df.isnull().sum()"
   ]
  },
  {
   "cell_type": "code",
   "execution_count": 275,
   "id": "f4ade84d",
   "metadata": {},
   "outputs": [
    {
     "name": "stdout",
     "output_type": "stream",
     "text": [
      " Total NaN in row 1 : 0\n",
      " Total NaN in row 2 : 0\n",
      " Total NaN in row 3 : 0\n",
      " Total NaN in row 4 : 0\n",
      " Total NaN in row 5 : 0\n",
      " Total NaN in row 6 : 0\n",
      " Total NaN in row 7 : 0\n",
      " Total NaN in row 8 : 0\n",
      " Total NaN in row 9 : 0\n",
      " Total NaN in row 10 : 0\n",
      " Total NaN in row 11 : 0\n",
      " Total NaN in row 12 : 0\n",
      " Total NaN in row 13 : 0\n",
      " Total NaN in row 14 : 0\n",
      " Total NaN in row 15 : 0\n",
      " Total NaN in row 16 : 0\n",
      " Total NaN in row 17 : 0\n",
      " Total NaN in row 18 : 0\n",
      " Total NaN in row 19 : 0\n",
      " Total NaN in row 20 : 0\n",
      " Total NaN in row 21 : 0\n",
      " Total NaN in row 22 : 0\n",
      " Total NaN in row 23 : 0\n",
      " Total NaN in row 24 : 0\n",
      " Total NaN in row 25 : 0\n",
      " Total NaN in row 26 : 0\n",
      " Total NaN in row 27 : 0\n",
      " Total NaN in row 28 : 0\n",
      " Total NaN in row 29 : 0\n",
      " Total NaN in row 30 : 0\n"
     ]
    }
   ],
   "source": [
    "# Counting null values in the data frame by rows\n",
    "for i in range(len(df.index)) :\n",
    "    print(\" Total NaN in row\", i + 1, \":\",\n",
    "          df.iloc[i].isnull().sum())"
   ]
  },
  {
   "cell_type": "code",
   "execution_count": 276,
   "id": "8ad09aae",
   "metadata": {},
   "outputs": [
    {
     "data": {
      "text/html": [
       "<div>\n",
       "<style scoped>\n",
       "    .dataframe tbody tr th:only-of-type {\n",
       "        vertical-align: middle;\n",
       "    }\n",
       "\n",
       "    .dataframe tbody tr th {\n",
       "        vertical-align: top;\n",
       "    }\n",
       "\n",
       "    .dataframe thead th {\n",
       "        text-align: right;\n",
       "    }\n",
       "</style>\n",
       "<table border=\"1\" class=\"dataframe\">\n",
       "  <thead>\n",
       "    <tr style=\"text-align: right;\">\n",
       "      <th></th>\n",
       "      <th>count</th>\n",
       "      <th>mean</th>\n",
       "      <th>std</th>\n",
       "      <th>min</th>\n",
       "      <th>25%</th>\n",
       "      <th>50%</th>\n",
       "      <th>75%</th>\n",
       "      <th>max</th>\n",
       "    </tr>\n",
       "  </thead>\n",
       "  <tbody>\n",
       "    <tr>\n",
       "      <th>YearsExperience</th>\n",
       "      <td>30.0</td>\n",
       "      <td>5.313333</td>\n",
       "      <td>2.837888</td>\n",
       "      <td>1.1</td>\n",
       "      <td>3.20</td>\n",
       "      <td>4.7</td>\n",
       "      <td>7.70</td>\n",
       "      <td>10.5</td>\n",
       "    </tr>\n",
       "    <tr>\n",
       "      <th>Salary</th>\n",
       "      <td>30.0</td>\n",
       "      <td>76003.000000</td>\n",
       "      <td>27414.429785</td>\n",
       "      <td>37731.0</td>\n",
       "      <td>56720.75</td>\n",
       "      <td>65237.0</td>\n",
       "      <td>100544.75</td>\n",
       "      <td>122391.0</td>\n",
       "    </tr>\n",
       "  </tbody>\n",
       "</table>\n",
       "</div>"
      ],
      "text/plain": [
       "                 count          mean           std      min       25%  \\\n",
       "YearsExperience   30.0      5.313333      2.837888      1.1      3.20   \n",
       "Salary            30.0  76003.000000  27414.429785  37731.0  56720.75   \n",
       "\n",
       "                     50%        75%       max  \n",
       "YearsExperience      4.7       7.70      10.5  \n",
       "Salary           65237.0  100544.75  122391.0  "
      ]
     },
     "execution_count": 276,
     "metadata": {},
     "output_type": "execute_result"
    }
   ],
   "source": [
    "# Statistics of the data frame\n",
    "df.describe().T"
   ]
  },
  {
   "cell_type": "markdown",
   "id": "6d8f9c40",
   "metadata": {},
   "source": [
    "## Data Visualization"
   ]
  },
  {
   "cell_type": "code",
   "execution_count": 277,
   "id": "c2ba06c7",
   "metadata": {},
   "outputs": [
    {
     "data": {
      "text/plain": [
       "<seaborn.axisgrid.PairGrid at 0x2471e097610>"
      ]
     },
     "execution_count": 277,
     "metadata": {},
     "output_type": "execute_result"
    },
    {
     "data": {
      "image/png": "[encoded data removed]",
      "text/plain": [
       "<Figure size 360x360 with 6 Axes>"
      ]
     },
     "metadata": {
      "needs_background": "light"
     },
     "output_type": "display_data"
    }
   ],
   "source": [
    "# We can plot Pair plot to understand the best set of features to explain a relationship between two variables\n",
    "# Since our dataset has only two attributes, when we plot it shows the relationship between salary & years of experience\n",
    "sn.pairplot(df)\n"
   ]
  },
  {
   "cell_type": "code",
   "execution_count": 278,
   "id": "7c42dd8f",
   "metadata": {},
   "outputs": [
    {
     "data": {
      "text/plain": [
       "array([[<AxesSubplot:title={'center':'YearsExperience'}>,\n",
       "        <AxesSubplot:title={'center':'Salary'}>]], dtype=object)"
      ]
     },
     "execution_count": 278,
     "metadata": {},
     "output_type": "execute_result"
    },
    {
     "data": {
      "image/png": "[encoded data removed]",
      "text/plain": [
       "<Figure size 432x288 with 2 Axes>"
      ]
     },
     "metadata": {
      "needs_background": "light"
     },
     "output_type": "display_data"
    }
   ],
   "source": [
    "# Though the above pair plot depicted the histogram, below code is for learning\n",
    "# Let us understand the distribution of both years of experience and salary\n",
    "\n",
    "hist = df.hist(bins=5)\n",
    "hist"
   ]
  },
  {
   "cell_type": "markdown",
   "id": "84e751cf",
   "metadata": {},
   "source": [
    "## Correlation (Diagnostic Analytics)"
   ]
  },
  {
   "cell_type": "code",
   "execution_count": 279,
   "id": "69de36f5",
   "metadata": {},
   "outputs": [
    {
     "data": {
      "text/plain": [
       "<AxesSubplot:>"
      ]
     },
     "execution_count": 279,
     "metadata": {},
     "output_type": "execute_result"
    },
    {
     "data": {
      "image/png": "[encoded data removed]",
      "text/plain": [
       "<Figure size 432x288 with 2 Axes>"
      ]
     },
     "metadata": {
      "needs_background": "light"
     },
     "output_type": "display_data"
    }
   ],
   "source": [
    "# Checking for correlation between salary & years of experience\n",
    "\n",
    "# Creating a correlation matrix from the data frame\n",
    "corrMatrix = df.corr()\n",
    "\n",
    "# Plotting using heatmap\n",
    "sn.heatmap(corrMatrix, annot = True, cmap= 'coolwarm')"
   ]
  },
  {
   "cell_type": "markdown",
   "id": "dd5c8469",
   "metadata": {},
   "source": [
    "Let us try the correlation with Kendall method and scatter plot"
   ]
  },
  {
   "cell_type": "code",
   "execution_count": 280,
   "id": "3104adc6",
   "metadata": {},
   "outputs": [
    {
     "data": {
      "text/html": [
       "<div>\n",
       "<style scoped>\n",
       "    .dataframe tbody tr th:only-of-type {\n",
       "        vertical-align: middle;\n",
       "    }\n",
       "\n",
       "    .dataframe tbody tr th {\n",
       "        vertical-align: top;\n",
       "    }\n",
       "\n",
       "    .dataframe thead th {\n",
       "        text-align: right;\n",
       "    }\n",
       "</style>\n",
       "<table border=\"1\" class=\"dataframe\">\n",
       "  <thead>\n",
       "    <tr style=\"text-align: right;\">\n",
       "      <th></th>\n",
       "      <th>YearsExperience</th>\n",
       "      <th>Salary</th>\n",
       "    </tr>\n",
       "  </thead>\n",
       "  <tbody>\n",
       "    <tr>\n",
       "      <th>YearsExperience</th>\n",
       "      <td>1.000000</td>\n",
       "      <td>0.841016</td>\n",
       "    </tr>\n",
       "    <tr>\n",
       "      <th>Salary</th>\n",
       "      <td>0.841016</td>\n",
       "      <td>1.000000</td>\n",
       "    </tr>\n",
       "  </tbody>\n",
       "</table>\n",
       "</div>"
      ],
      "text/plain": [
       "                 YearsExperience    Salary\n",
       "YearsExperience         1.000000  0.841016\n",
       "Salary                  0.841016  1.000000"
      ]
     },
     "execution_count": 280,
     "metadata": {},
     "output_type": "execute_result"
    }
   ],
   "source": [
    "# Correlation using kendall method\n",
    "df.corr(method ='kendall')"
   ]
  },
  {
   "cell_type": "code",
   "execution_count": 281,
   "id": "716f5d9c",
   "metadata": {},
   "outputs": [
    {
     "data": {
      "text/plain": [
       "<AxesSubplot:xlabel='YearsExperience', ylabel='Salary'>"
      ]
     },
     "execution_count": 281,
     "metadata": {},
     "output_type": "execute_result"
    },
    {
     "data": {
      "image/png": "[encoded data removed]",
      "text/plain": [
       "<Figure size 432x288 with 1 Axes>"
      ]
     },
     "metadata": {
      "needs_background": "light"
     },
     "output_type": "display_data"
    }
   ],
   "source": [
    "# scatter plot of Age & Spending Score\n",
    "df.plot.scatter(x = 'YearsExperience', y = 'Salary', s = 100)"
   ]
  },
  {
   "cell_type": "markdown",
   "id": "13bbed34",
   "metadata": {},
   "source": [
    "The above correlation depicts there is a strong positive correlation between years of experience & salary. In the next step we will be building linear regression model"
   ]
  },
  {
   "cell_type": "markdown",
   "id": "98f718c7",
   "metadata": {},
   "source": [
    "## Building the model"
   ]
  },
  {
   "cell_type": "markdown",
   "id": "f04303c0",
   "metadata": {},
   "source": [
    "##### Splitting the dataset\n",
    "\n",
    "First step is to split the given dataset into training dataset and test dataset. While training dataset will be used to build the model, test dataset will be leveraged to validate the model. Since the est dataset has the actual output, we can validate with predicted outcome and understand error metrics such as accuracy, precision and so on."
   ]
  },
  {
   "cell_type": "code",
   "execution_count": 284,
   "id": "bdd5dc94",
   "metadata": {},
   "outputs": [
    {
     "data": {
      "text/plain": [
       "0      39343.0\n",
       "1      46205.0\n",
       "2      37731.0\n",
       "3      43525.0\n",
       "4      39891.0\n",
       "5      56642.0\n",
       "6      60150.0\n",
       "7      54445.0\n",
       "8      64445.0\n",
       "9      57189.0\n",
       "10     63218.0\n",
       "11     55794.0\n",
       "12     56957.0\n",
       "13     57081.0\n",
       "14     61111.0\n",
       "15     67938.0\n",
       "16     66029.0\n",
       "17     83088.0\n",
       "18     81363.0\n",
       "19     93940.0\n",
       "20     91738.0\n",
       "21     98273.0\n",
       "22    101302.0\n",
       "23    113812.0\n",
       "24    109431.0\n",
       "25    105582.0\n",
       "26    116969.0\n",
       "27    112635.0\n",
       "28    122391.0\n",
       "29    121872.0\n",
       "Name: Salary, dtype: float64"
      ]
     },
     "execution_count": 284,
     "metadata": {},
     "output_type": "execute_result"
    }
   ],
   "source": [
    "# Before splitting we will be building two arrays x & y\n",
    "# x array contains the data that we use to make predictions (years of experience)\n",
    "# y array contains the data that we will be predicting (Salary)\n",
    "# In nutshell, y is dependent onx\n",
    "\n",
    "x = df['YearsExperience']\n",
    "y = df['Salary']\n"
   ]
  },
  {
   "cell_type": "code",
   "execution_count": 285,
   "id": "bbee513e",
   "metadata": {},
   "outputs": [],
   "source": [
    "# Now let us split the datasets x & y into train & test respectively. \n",
    "# 0.2 represents 10% of data will be leveraged for training & 30% of data will be used for test\n",
    "\n",
    "x_train, x_test, y_train, y_test = train_test_split(x, y, test_size = 0.2)"
   ]
  },
  {
   "cell_type": "code",
   "execution_count": 292,
   "id": "f571b0a9",
   "metadata": {},
   "outputs": [
    {
     "data": {
      "text/plain": [
       "array([[ 2. ],\n",
       "       [ 9.5],\n",
       "       [ 9.6],\n",
       "       [ 2.9],\n",
       "       [ 1.5],\n",
       "       [ 5.3],\n",
       "       [ 4.9],\n",
       "       [ 3. ],\n",
       "       [10.5],\n",
       "       [ 8.7],\n",
       "       [ 6. ],\n",
       "       [ 8.2],\n",
       "       [ 4.5],\n",
       "       [ 6.8],\n",
       "       [ 1.3],\n",
       "       [ 3.7],\n",
       "       [ 2.2],\n",
       "       [ 4. ],\n",
       "       [ 7.1],\n",
       "       [ 1.1],\n",
       "       [ 4. ],\n",
       "       [ 5.1],\n",
       "       [ 4.1],\n",
       "       [ 3.9]])"
      ]
     },
     "execution_count": 292,
     "metadata": {},
     "output_type": "execute_result"
    }
   ],
   "source": [
    "# Since we have single feature we need to convert into a 2-D array with reshape (since model training requires 2-D array)\n",
    "# This step is NOT required if you have more than one features for prediction\n",
    "\n",
    "x_train = x_train.reshape(-1, 1)\n",
    "x_test = x_test.reshape(-1, 1)\n",
    "x_train"
   ]
  },
  {
   "cell_type": "markdown",
   "id": "3f61445a",
   "metadata": {},
   "source": [
    "##### Building the model\n",
    "\n",
    "We will be building linear regression"
   ]
  },
  {
   "cell_type": "code",
   "execution_count": 293,
   "id": "bd0c8ced",
   "metadata": {},
   "outputs": [
    {
     "name": "stdout",
     "output_type": "stream",
     "text": [
      "The coefficient is: 9647 and the intercept is: 24742\n"
     ]
    }
   ],
   "source": [
    "# Linear Regression Model\n",
    "model = LinearRegression()\n",
    "\n",
    "# Training the model with the training data x (years of experience) & y (salary)\n",
    "response= model.fit(x_train, y_train)\n",
    "\n",
    "# Getting the coefficient\n",
    "coeff = response.coef_\n",
    "\n",
    "# Getting the intercept\n",
    "intercept = response.intercept_\n",
    "\n",
    "print (\"The coefficient is: %d and the intercept is: %d\"  %(coeff, intercept))\n"
   ]
  },
  {
   "cell_type": "markdown",
   "id": "4a247e38",
   "metadata": {},
   "source": [
    "## Prediction\n",
    "\n",
    "In this step, we will be passing the test set to validate the model and predict"
   ]
  },
  {
   "cell_type": "code",
   "execution_count": 294,
   "id": "fce75f2b",
   "metadata": {},
   "outputs": [
    {
     "data": {
      "text/plain": [
       "<matplotlib.collections.PathCollection at 0x24723fc7760>"
      ]
     },
     "execution_count": 294,
     "metadata": {},
     "output_type": "execute_result"
    },
    {
     "data": {
      "image/png": "[encoded data removed]",
      "text/plain": [
       "<Figure size 432x288 with 1 Axes>"
      ]
     },
     "metadata": {
      "needs_background": "light"
     },
     "output_type": "display_data"
    }
   ],
   "source": [
    "# predicing the responses (y, the salary) based on the predictor (x, the years of experience)\n",
    "\n",
    "predictions = model.predict(x_test)\n",
    "\n",
    "# We will be comparing with the predicted value with actual response (which was stored in y_test)\n",
    "\n",
    "plt.scatter(y_test, predictions)"
   ]
  },
  {
   "cell_type": "markdown",
   "id": "d653baf3",
   "metadata": {},
   "source": [
    "The above plot depicts a close prediction to the actual value (based on the straight diagnoal line). "
   ]
  },
  {
   "cell_type": "markdown",
   "id": "9d7e764e",
   "metadata": {},
   "source": [
    "## Validation of the model"
   ]
  },
  {
   "cell_type": "markdown",
   "id": "cdcac95d",
   "metadata": {},
   "source": [
    "In this step, we will be validating the performance of the built model. There are several performance metrics and we will be starting with r squared value:\n",
    "\n",
    "R-squared (R2) is a statistical measure that represents the goodness-of-fit measure for linear regression models. R-squared is the percentage of the dependent variable variation that a linear model explains. \n",
    "\n",
    "R-squared is always between 0 and 1 (0% to 100%)\n",
    "\n",
    "0 represents a model that does not explain any of the variation in the response variable around its mean. 1 represents a model that explains all the variation in the response variable around its mean. Usually, the larger the R2, the better the regression model fits your observations. "
   ]
  },
  {
   "cell_type": "code",
   "execution_count": 295,
   "id": "81b2b01d",
   "metadata": {},
   "outputs": [
    {
     "name": "stdout",
     "output_type": "stream",
     "text": [
      "R-squared:  0.9651159651721579\n"
     ]
    }
   ],
   "source": [
    "r2 = r2_score(y_test,predictions)\n",
    "\n",
    "print(\"R-squared: \", r2)"
   ]
  },
  {
   "cell_type": "markdown",
   "id": "253cfacf",
   "metadata": {},
   "source": [
    "R-squared tries to estimate the fitoptimistically. It always increases as the number of effects are included in the model. \n",
    "\n",
    "Adjusted r-squared attempts to correct for this overestimation. Adjusted r-squared might decrease if a specific effect does not improve the model.\n",
    "\n",
    "Adjusted R squared is calculated by dividing the residual mean square error by the total mean square error (which is the sample variance of the target field). The result is then subtracted from 1.\n",
    "\n",
    "Adjusted R2 is always less than or equal to R2. A value of 1 indicates a model that perfectly predicts values in the target field. A value that is less than or equal to 0 indicates a model that has no predictive value. In the real world, adjusted R2 lies between these values."
   ]
  },
  {
   "cell_type": "code",
   "execution_count": 296,
   "id": "a3408660",
   "metadata": {},
   "outputs": [
    {
     "name": "stdout",
     "output_type": "stream",
     "text": [
      "Adjusted R-Squared :  0.9563949564651975\n"
     ]
    }
   ],
   "source": [
    "# Adjusted r squared is calculated by dividing the residual Mean Square Error (MSE) by total Mean Square Error & subtracted from 1.\n",
    "\n",
    "N = y_test.shape[0] #number of records in the data set.\n",
    "p=1 #number of independent variables (in our case it would be 'years of experience')\n",
    "x = (1-r2)\n",
    "y = (N-1) / (N-p-1)\n",
    "adj_rsquared = (1 - (x * y))\n",
    "print(\"Adjusted R-Squared : \" , adj_rsquared)"
   ]
  },
  {
   "cell_type": "markdown",
   "id": "5083182b",
   "metadata": {},
   "source": [
    "So far we have used scikit-learn. Let us also try statsmodels if you need the advanced statistical parameters of a model"
   ]
  },
  {
   "cell_type": "code",
   "execution_count": 297,
   "id": "21b4bb1f",
   "metadata": {},
   "outputs": [
    {
     "data": {
      "text/html": [
       "<table class=\"simpletable\">\n",
       "<caption>OLS Regression Results</caption>\n",
       "<tr>\n",
       "  <th>Dep. Variable:</th>            <td>y</td>        <th>  R-squared:         </th> <td>   0.957</td>\n",
       "</tr>\n",
       "<tr>\n",
       "  <th>Model:</th>                   <td>OLS</td>       <th>  Adj. R-squared:    </th> <td>   0.955</td>\n",
       "</tr>\n",
       "<tr>\n",
       "  <th>Method:</th>             <td>Least Squares</td>  <th>  F-statistic:       </th> <td>   622.5</td>\n",
       "</tr>\n",
       "<tr>\n",
       "  <th>Date:</th>             <td>Fri, 10 Jun 2022</td> <th>  Prob (F-statistic):</th> <td>1.14e-20</td>\n",
       "</tr>\n",
       "<tr>\n",
       "  <th>Time:</th>                 <td>09:44:17</td>     <th>  Log-Likelihood:    </th> <td> -301.44</td>\n",
       "</tr>\n",
       "<tr>\n",
       "  <th>No. Observations:</th>      <td>    30</td>      <th>  AIC:               </th> <td>   606.9</td>\n",
       "</tr>\n",
       "<tr>\n",
       "  <th>Df Residuals:</th>          <td>    28</td>      <th>  BIC:               </th> <td>   609.7</td>\n",
       "</tr>\n",
       "<tr>\n",
       "  <th>Df Model:</th>              <td>     1</td>      <th>                     </th>     <td> </td>   \n",
       "</tr>\n",
       "<tr>\n",
       "  <th>Covariance Type:</th>      <td>nonrobust</td>    <th>                     </th>     <td> </td>   \n",
       "</tr>\n",
       "</table>\n",
       "<table class=\"simpletable\">\n",
       "<tr>\n",
       "    <td></td>       <th>coef</th>     <th>std err</th>      <th>t</th>      <th>P>|t|</th>  <th>[0.025</th>    <th>0.975]</th>  \n",
       "</tr>\n",
       "<tr>\n",
       "  <th>const</th> <td> 2.579e+04</td> <td> 2273.053</td> <td>   11.347</td> <td> 0.000</td> <td> 2.11e+04</td> <td> 3.04e+04</td>\n",
       "</tr>\n",
       "<tr>\n",
       "  <th>x1</th>    <td> 9449.9623</td> <td>  378.755</td> <td>   24.950</td> <td> 0.000</td> <td> 8674.119</td> <td> 1.02e+04</td>\n",
       "</tr>\n",
       "</table>\n",
       "<table class=\"simpletable\">\n",
       "<tr>\n",
       "  <th>Omnibus:</th>       <td> 2.140</td> <th>  Durbin-Watson:     </th> <td>   1.648</td>\n",
       "</tr>\n",
       "<tr>\n",
       "  <th>Prob(Omnibus):</th> <td> 0.343</td> <th>  Jarque-Bera (JB):  </th> <td>   1.569</td>\n",
       "</tr>\n",
       "<tr>\n",
       "  <th>Skew:</th>          <td> 0.363</td> <th>  Prob(JB):          </th> <td>   0.456</td>\n",
       "</tr>\n",
       "<tr>\n",
       "  <th>Kurtosis:</th>      <td> 2.147</td> <th>  Cond. No.          </th> <td>    13.2</td>\n",
       "</tr>\n",
       "</table><br/><br/>Notes:<br/>[1] Standard Errors assume that the covariance matrix of the errors is correctly specified."
      ],
      "text/plain": [
       "<class 'statsmodels.iolib.summary.Summary'>\n",
       "\"\"\"\n",
       "                            OLS Regression Results                            \n",
       "==============================================================================\n",
       "Dep. Variable:                      y   R-squared:                       0.957\n",
       "Model:                            OLS   Adj. R-squared:                  0.955\n",
       "Method:                 Least Squares   F-statistic:                     622.5\n",
       "Date:                Fri, 10 Jun 2022   Prob (F-statistic):           1.14e-20\n",
       "Time:                        09:44:17   Log-Likelihood:                -301.44\n",
       "No. Observations:                  30   AIC:                             606.9\n",
       "Df Residuals:                      28   BIC:                             609.7\n",
       "Df Model:                           1                                         \n",
       "Covariance Type:            nonrobust                                         \n",
       "==============================================================================\n",
       "                 coef    std err          t      P>|t|      [0.025      0.975]\n",
       "------------------------------------------------------------------------------\n",
       "const       2.579e+04   2273.053     11.347      0.000    2.11e+04    3.04e+04\n",
       "x1          9449.9623    378.755     24.950      0.000    8674.119    1.02e+04\n",
       "==============================================================================\n",
       "Omnibus:                        2.140   Durbin-Watson:                   1.648\n",
       "Prob(Omnibus):                  0.343   Jarque-Bera (JB):                1.569\n",
       "Skew:                           0.363   Prob(JB):                        0.456\n",
       "Kurtosis:                       2.147   Cond. No.                         13.2\n",
       "==============================================================================\n",
       "\n",
       "Notes:\n",
       "[1] Standard Errors assume that the covariance matrix of the errors is correctly specified.\n",
       "\"\"\""
      ]
     },
     "execution_count": 297,
     "metadata": {},
     "output_type": "execute_result"
    }
   ],
   "source": [
    "# Here we are creating array of dependent (x) and indpendent variables again\n",
    "\n",
    "x = df['YearsExperience']\n",
    "y = df['Salary']\n",
    "x, y = np.array(x), np.array(y)\n",
    "\n",
    "# We need to column of ones to the inputs if you want statsmodels to calculate the intercept\n",
    "x = sm.add_constant(x)\n",
    "\n",
    "# Create a linear regression\n",
    "model = sm.OLS(y, x)\n",
    "\n",
    "# Fitting the model\n",
    "response = model.fit()\n",
    "\n",
    "# Printing the summary of fitment\n",
    "response.summary()"
   ]
  },
  {
   "cell_type": "markdown",
   "id": "f3d26de5",
   "metadata": {},
   "source": [
    "## Conclusion\n",
    "\n",
    "With the linear regression, the best fit we can arrive at is (with adjusted r-squared value of 0.955):\n",
    "\n",
    "Salary = 9450*YearsOfExperience + 25790\n"
   ]
  },
  {
   "cell_type": "code",
   "execution_count": null,
   "id": "1556ed81",
   "metadata": {},
   "outputs": [],
   "source": []
  }
 ],
 "metadata": {
  "kernelspec": {
   "display_name": "Python 3",
   "language": "python",
   "name": "python3"
  },
  "language_info": {
   "codemirror_mode": {
    "name": "ipython",
    "version": 3
   },
   "file_extension": ".py",
   "mimetype": "text/x-python",
   "name": "python",
   "nbconvert_exporter": "python",
   "pygments_lexer": "ipython3",
   "version": "3.9.12"
  }
 },
 "nbformat": 4,
 "nbformat_minor": 5
}
